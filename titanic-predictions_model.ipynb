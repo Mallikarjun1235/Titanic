{
 "cells": [
  {
   "cell_type": "code",
   "execution_count": 1,
   "id": "16ccd47b",
   "metadata": {
    "execution": {
     "iopub.execute_input": "2023-04-09T10:08:02.519719Z",
     "iopub.status.busy": "2023-04-09T10:08:02.518895Z",
     "iopub.status.idle": "2023-04-09T10:08:03.873082Z",
     "shell.execute_reply": "2023-04-09T10:08:03.871903Z"
    },
    "executionInfo": {
     "elapsed": 464,
     "status": "ok",
     "timestamp": 1681033240627,
     "user": {
      "displayName": "Mallikarjun Thripuraboina",
      "userId": "01775111500134944659"
     },
     "user_tz": -330
    },
    "id": "9daHrpHDFWF9",
    "papermill": {
     "duration": 1.386666,
     "end_time": "2023-04-09T10:08:03.875974",
     "exception": false,
     "start_time": "2023-04-09T10:08:02.489308",
     "status": "completed"
    },
    "tags": []
   },
   "outputs": [],
   "source": [
    "import pandas as pd\n",
    "import numpy as np\n",
    "import matplotlib.pyplot as plt\n",
    "%matplotlib inline\n",
    "import seaborn as sns\n",
    "\n",
    "from sklearn.model_selection import train_test_split, GridSearchCV"
   ]
  },
  {
   "cell_type": "code",
   "execution_count": 2,
   "id": "24faf2e4",
   "metadata": {
    "execution": {
     "iopub.execute_input": "2023-04-09T10:08:03.928107Z",
     "iopub.status.busy": "2023-04-09T10:08:03.927785Z",
     "iopub.status.idle": "2023-04-09T10:08:03.947615Z",
     "shell.execute_reply": "2023-04-09T10:08:03.946521Z"
    },
    "executionInfo": {
     "elapsed": 72,
     "status": "ok",
     "timestamp": 1681033247966,
     "user": {
      "displayName": "Mallikarjun Thripuraboina",
      "userId": "01775111500134944659"
     },
     "user_tz": -330
    },
    "id": "X-XSKpZqHRLl",
    "papermill": {
     "duration": 0.048828,
     "end_time": "2023-04-09T10:08:03.950225",
     "exception": false,
     "start_time": "2023-04-09T10:08:03.901397",
     "status": "completed"
    },
    "tags": []
   },
   "outputs": [],
   "source": [
    "TRAIN= pd.read_csv('/kaggle/input/titanic/train.csv', na_values=['?','#',' '])"
   ]
  },
  {
   "cell_type": "code",
   "execution_count": 3,
   "id": "3fbbd6cf",
   "metadata": {
    "execution": {
     "iopub.execute_input": "2023-04-09T10:08:04.004029Z",
     "iopub.status.busy": "2023-04-09T10:08:04.003332Z",
     "iopub.status.idle": "2023-04-09T10:08:04.032736Z",
     "shell.execute_reply": "2023-04-09T10:08:04.031724Z"
    },
    "executionInfo": {
     "elapsed": 74,
     "status": "ok",
     "timestamp": 1681033247968,
     "user": {
      "displayName": "Mallikarjun Thripuraboina",
      "userId": "01775111500134944659"
     },
     "user_tz": -330
    },
    "id": "WKylW9N1HniY",
    "outputId": "36754841-c09c-4376-8337-1213b7467cfa",
    "papermill": {
     "duration": 0.059572,
     "end_time": "2023-04-09T10:08:04.035252",
     "exception": false,
     "start_time": "2023-04-09T10:08:03.975680",
     "status": "completed"
    },
    "tags": []
   },
   "outputs": [
    {
     "data": {
      "text/html": [
       "<div>\n",
       "<style scoped>\n",
       "    .dataframe tbody tr th:only-of-type {\n",
       "        vertical-align: middle;\n",
       "    }\n",
       "\n",
       "    .dataframe tbody tr th {\n",
       "        vertical-align: top;\n",
       "    }\n",
       "\n",
       "    .dataframe thead th {\n",
       "        text-align: right;\n",
       "    }\n",
       "</style>\n",
       "<table border=\"1\" class=\"dataframe\">\n",
       "  <thead>\n",
       "    <tr style=\"text-align: right;\">\n",
       "      <th></th>\n",
       "      <th>PassengerId</th>\n",
       "      <th>Survived</th>\n",
       "      <th>Pclass</th>\n",
       "      <th>Name</th>\n",
       "      <th>Sex</th>\n",
       "      <th>Age</th>\n",
       "      <th>SibSp</th>\n",
       "      <th>Parch</th>\n",
       "      <th>Ticket</th>\n",
       "      <th>Fare</th>\n",
       "      <th>Cabin</th>\n",
       "      <th>Embarked</th>\n",
       "    </tr>\n",
       "  </thead>\n",
       "  <tbody>\n",
       "    <tr>\n",
       "      <th>0</th>\n",
       "      <td>1</td>\n",
       "      <td>0</td>\n",
       "      <td>3</td>\n",
       "      <td>Braund, Mr. Owen Harris</td>\n",
       "      <td>male</td>\n",
       "      <td>22.0</td>\n",
       "      <td>1</td>\n",
       "      <td>0</td>\n",
       "      <td>A/5 21171</td>\n",
       "      <td>7.2500</td>\n",
       "      <td>NaN</td>\n",
       "      <td>S</td>\n",
       "    </tr>\n",
       "    <tr>\n",
       "      <th>1</th>\n",
       "      <td>2</td>\n",
       "      <td>1</td>\n",
       "      <td>1</td>\n",
       "      <td>Cumings, Mrs. John Bradley (Florence Briggs Th...</td>\n",
       "      <td>female</td>\n",
       "      <td>38.0</td>\n",
       "      <td>1</td>\n",
       "      <td>0</td>\n",
       "      <td>PC 17599</td>\n",
       "      <td>71.2833</td>\n",
       "      <td>C85</td>\n",
       "      <td>C</td>\n",
       "    </tr>\n",
       "    <tr>\n",
       "      <th>2</th>\n",
       "      <td>3</td>\n",
       "      <td>1</td>\n",
       "      <td>3</td>\n",
       "      <td>Heikkinen, Miss. Laina</td>\n",
       "      <td>female</td>\n",
       "      <td>26.0</td>\n",
       "      <td>0</td>\n",
       "      <td>0</td>\n",
       "      <td>STON/O2. 3101282</td>\n",
       "      <td>7.9250</td>\n",
       "      <td>NaN</td>\n",
       "      <td>S</td>\n",
       "    </tr>\n",
       "    <tr>\n",
       "      <th>3</th>\n",
       "      <td>4</td>\n",
       "      <td>1</td>\n",
       "      <td>1</td>\n",
       "      <td>Futrelle, Mrs. Jacques Heath (Lily May Peel)</td>\n",
       "      <td>female</td>\n",
       "      <td>35.0</td>\n",
       "      <td>1</td>\n",
       "      <td>0</td>\n",
       "      <td>113803</td>\n",
       "      <td>53.1000</td>\n",
       "      <td>C123</td>\n",
       "      <td>S</td>\n",
       "    </tr>\n",
       "    <tr>\n",
       "      <th>4</th>\n",
       "      <td>5</td>\n",
       "      <td>0</td>\n",
       "      <td>3</td>\n",
       "      <td>Allen, Mr. William Henry</td>\n",
       "      <td>male</td>\n",
       "      <td>35.0</td>\n",
       "      <td>0</td>\n",
       "      <td>0</td>\n",
       "      <td>373450</td>\n",
       "      <td>8.0500</td>\n",
       "      <td>NaN</td>\n",
       "      <td>S</td>\n",
       "    </tr>\n",
       "  </tbody>\n",
       "</table>\n",
       "</div>"
      ],
      "text/plain": [
       "   PassengerId  Survived  Pclass  \\\n",
       "0            1         0       3   \n",
       "1            2         1       1   \n",
       "2            3         1       3   \n",
       "3            4         1       1   \n",
       "4            5         0       3   \n",
       "\n",
       "                                                Name     Sex   Age  SibSp  \\\n",
       "0                            Braund, Mr. Owen Harris    male  22.0      1   \n",
       "1  Cumings, Mrs. John Bradley (Florence Briggs Th...  female  38.0      1   \n",
       "2                             Heikkinen, Miss. Laina  female  26.0      0   \n",
       "3       Futrelle, Mrs. Jacques Heath (Lily May Peel)  female  35.0      1   \n",
       "4                           Allen, Mr. William Henry    male  35.0      0   \n",
       "\n",
       "   Parch            Ticket     Fare Cabin Embarked  \n",
       "0      0         A/5 21171   7.2500   NaN        S  \n",
       "1      0          PC 17599  71.2833   C85        C  \n",
       "2      0  STON/O2. 3101282   7.9250   NaN        S  \n",
       "3      0            113803  53.1000  C123        S  \n",
       "4      0            373450   8.0500   NaN        S  "
      ]
     },
     "execution_count": 3,
     "metadata": {},
     "output_type": "execute_result"
    }
   ],
   "source": [
    "TRAIN.head()"
   ]
  },
  {
   "cell_type": "code",
   "execution_count": 4,
   "id": "21fb0152",
   "metadata": {
    "execution": {
     "iopub.execute_input": "2023-04-09T10:08:04.089463Z",
     "iopub.status.busy": "2023-04-09T10:08:04.089061Z",
     "iopub.status.idle": "2023-04-09T10:08:04.096113Z",
     "shell.execute_reply": "2023-04-09T10:08:04.094802Z"
    },
    "executionInfo": {
     "elapsed": 74,
     "status": "ok",
     "timestamp": 1681033247970,
     "user": {
      "displayName": "Mallikarjun Thripuraboina",
      "userId": "01775111500134944659"
     },
     "user_tz": -330
    },
    "id": "K-wW9K6COQC9",
    "outputId": "3d82836c-7405-4c61-85c0-fade98390e88",
    "papermill": {
     "duration": 0.037633,
     "end_time": "2023-04-09T10:08:04.099013",
     "exception": false,
     "start_time": "2023-04-09T10:08:04.061380",
     "status": "completed"
    },
    "tags": []
   },
   "outputs": [
    {
     "data": {
      "text/plain": [
       "(891, 12)"
      ]
     },
     "execution_count": 4,
     "metadata": {},
     "output_type": "execute_result"
    }
   ],
   "source": [
    "TRAIN.shape"
   ]
  },
  {
   "cell_type": "code",
   "execution_count": 5,
   "id": "73ad889c",
   "metadata": {
    "execution": {
     "iopub.execute_input": "2023-04-09T10:08:04.154473Z",
     "iopub.status.busy": "2023-04-09T10:08:04.154018Z",
     "iopub.status.idle": "2023-04-09T10:08:04.169165Z",
     "shell.execute_reply": "2023-04-09T10:08:04.168036Z"
    },
    "executionInfo": {
     "elapsed": 71,
     "status": "ok",
     "timestamp": 1681033247972,
     "user": {
      "displayName": "Mallikarjun Thripuraboina",
      "userId": "01775111500134944659"
     },
     "user_tz": -330
    },
    "id": "xWOpTbe9JKIf",
    "outputId": "e95158a7-877b-4179-8218-f1be41227d33",
    "papermill": {
     "duration": 0.045651,
     "end_time": "2023-04-09T10:08:04.171033",
     "exception": false,
     "start_time": "2023-04-09T10:08:04.125382",
     "status": "completed"
    },
    "tags": []
   },
   "outputs": [
    {
     "data": {
      "text/plain": [
       "PassengerId    891\n",
       "Survived         2\n",
       "Pclass           3\n",
       "Name           891\n",
       "Sex              2\n",
       "Age             88\n",
       "SibSp            7\n",
       "Parch            7\n",
       "Ticket         681\n",
       "Fare           248\n",
       "Cabin          147\n",
       "Embarked         3\n",
       "dtype: int64"
      ]
     },
     "execution_count": 5,
     "metadata": {},
     "output_type": "execute_result"
    }
   ],
   "source": [
    "TRAIN.nunique()"
   ]
  },
  {
   "cell_type": "code",
   "execution_count": 6,
   "id": "251251a5",
   "metadata": {
    "execution": {
     "iopub.execute_input": "2023-04-09T10:08:04.224883Z",
     "iopub.status.busy": "2023-04-09T10:08:04.223863Z",
     "iopub.status.idle": "2023-04-09T10:08:04.229817Z",
     "shell.execute_reply": "2023-04-09T10:08:04.228380Z"
    },
    "executionInfo": {
     "elapsed": 66,
     "status": "ok",
     "timestamp": 1681033247973,
     "user": {
      "displayName": "Mallikarjun Thripuraboina",
      "userId": "01775111500134944659"
     },
     "user_tz": -330
    },
    "id": "F_5b5vZnVdIa",
    "papermill": {
     "duration": 0.034817,
     "end_time": "2023-04-09T10:08:04.231771",
     "exception": false,
     "start_time": "2023-04-09T10:08:04.196954",
     "status": "completed"
    },
    "tags": []
   },
   "outputs": [],
   "source": [
    "to_drop=['PassengerId','Name','Ticket','Cabin']\n",
    "cat=['Pclass','Sex','SibSp','Parch','Embarked']\n",
    "num=['Age','Fare']"
   ]
  },
  {
   "cell_type": "code",
   "execution_count": 7,
   "id": "baec81a4",
   "metadata": {
    "execution": {
     "iopub.execute_input": "2023-04-09T10:08:04.286019Z",
     "iopub.status.busy": "2023-04-09T10:08:04.285621Z",
     "iopub.status.idle": "2023-04-09T10:08:04.294212Z",
     "shell.execute_reply": "2023-04-09T10:08:04.293060Z"
    },
    "executionInfo": {
     "elapsed": 66,
     "status": "ok",
     "timestamp": 1681033247974,
     "user": {
      "displayName": "Mallikarjun Thripuraboina",
      "userId": "01775111500134944659"
     },
     "user_tz": -330
    },
    "id": "eH3drD_LVaY_",
    "outputId": "8c3df2b4-f079-4c11-81bf-c351dfc49895",
    "papermill": {
     "duration": 0.038668,
     "end_time": "2023-04-09T10:08:04.296734",
     "exception": false,
     "start_time": "2023-04-09T10:08:04.258066",
     "status": "completed"
    },
    "tags": []
   },
   "outputs": [
    {
     "data": {
      "text/plain": [
       "PassengerId      0\n",
       "Survived         0\n",
       "Pclass           0\n",
       "Name             0\n",
       "Sex              0\n",
       "Age            177\n",
       "SibSp            0\n",
       "Parch            0\n",
       "Ticket           0\n",
       "Fare             0\n",
       "Cabin          687\n",
       "Embarked         2\n",
       "dtype: int64"
      ]
     },
     "execution_count": 7,
     "metadata": {},
     "output_type": "execute_result"
    }
   ],
   "source": [
    "TRAIN.isna().sum()"
   ]
  },
  {
   "cell_type": "code",
   "execution_count": 8,
   "id": "89d726bf",
   "metadata": {
    "execution": {
     "iopub.execute_input": "2023-04-09T10:08:04.353269Z",
     "iopub.status.busy": "2023-04-09T10:08:04.351948Z",
     "iopub.status.idle": "2023-04-09T10:08:04.361867Z",
     "shell.execute_reply": "2023-04-09T10:08:04.361040Z"
    },
    "executionInfo": {
     "elapsed": 63,
     "status": "ok",
     "timestamp": 1681033247976,
     "user": {
      "displayName": "Mallikarjun Thripuraboina",
      "userId": "01775111500134944659"
     },
     "user_tz": -330
    },
    "id": "yibt8yn0avc2",
    "papermill": {
     "duration": 0.040729,
     "end_time": "2023-04-09T10:08:04.364402",
     "exception": false,
     "start_time": "2023-04-09T10:08:04.323673",
     "status": "completed"
    },
    "tags": []
   },
   "outputs": [],
   "source": [
    "TRAIN.drop(to_drop, axis=1, inplace=True)"
   ]
  },
  {
   "cell_type": "code",
   "execution_count": 9,
   "id": "80dec924",
   "metadata": {
    "execution": {
     "iopub.execute_input": "2023-04-09T10:08:04.421236Z",
     "iopub.status.busy": "2023-04-09T10:08:04.420171Z",
     "iopub.status.idle": "2023-04-09T10:08:04.433505Z",
     "shell.execute_reply": "2023-04-09T10:08:04.432568Z"
    },
    "executionInfo": {
     "elapsed": 64,
     "status": "ok",
     "timestamp": 1681033247977,
     "user": {
      "displayName": "Mallikarjun Thripuraboina",
      "userId": "01775111500134944659"
     },
     "user_tz": -330
    },
    "id": "nizKJ5v9D7Oy",
    "outputId": "4b8fbb32-97e7-40bb-9fce-b5c73a44b7ce",
    "papermill": {
     "duration": 0.043489,
     "end_time": "2023-04-09T10:08:04.435679",
     "exception": false,
     "start_time": "2023-04-09T10:08:04.392190",
     "status": "completed"
    },
    "tags": []
   },
   "outputs": [
    {
     "data": {
      "text/html": [
       "<div>\n",
       "<style scoped>\n",
       "    .dataframe tbody tr th:only-of-type {\n",
       "        vertical-align: middle;\n",
       "    }\n",
       "\n",
       "    .dataframe tbody tr th {\n",
       "        vertical-align: top;\n",
       "    }\n",
       "\n",
       "    .dataframe thead th {\n",
       "        text-align: right;\n",
       "    }\n",
       "</style>\n",
       "<table border=\"1\" class=\"dataframe\">\n",
       "  <thead>\n",
       "    <tr style=\"text-align: right;\">\n",
       "      <th></th>\n",
       "      <th>Survived</th>\n",
       "      <th>Pclass</th>\n",
       "      <th>Sex</th>\n",
       "      <th>Age</th>\n",
       "      <th>SibSp</th>\n",
       "      <th>Parch</th>\n",
       "      <th>Fare</th>\n",
       "      <th>Embarked</th>\n",
       "    </tr>\n",
       "  </thead>\n",
       "  <tbody>\n",
       "    <tr>\n",
       "      <th>0</th>\n",
       "      <td>0</td>\n",
       "      <td>3</td>\n",
       "      <td>male</td>\n",
       "      <td>22.0</td>\n",
       "      <td>1</td>\n",
       "      <td>0</td>\n",
       "      <td>7.2500</td>\n",
       "      <td>S</td>\n",
       "    </tr>\n",
       "    <tr>\n",
       "      <th>1</th>\n",
       "      <td>1</td>\n",
       "      <td>1</td>\n",
       "      <td>female</td>\n",
       "      <td>38.0</td>\n",
       "      <td>1</td>\n",
       "      <td>0</td>\n",
       "      <td>71.2833</td>\n",
       "      <td>C</td>\n",
       "    </tr>\n",
       "    <tr>\n",
       "      <th>2</th>\n",
       "      <td>1</td>\n",
       "      <td>3</td>\n",
       "      <td>female</td>\n",
       "      <td>26.0</td>\n",
       "      <td>0</td>\n",
       "      <td>0</td>\n",
       "      <td>7.9250</td>\n",
       "      <td>S</td>\n",
       "    </tr>\n",
       "    <tr>\n",
       "      <th>3</th>\n",
       "      <td>1</td>\n",
       "      <td>1</td>\n",
       "      <td>female</td>\n",
       "      <td>35.0</td>\n",
       "      <td>1</td>\n",
       "      <td>0</td>\n",
       "      <td>53.1000</td>\n",
       "      <td>S</td>\n",
       "    </tr>\n",
       "    <tr>\n",
       "      <th>4</th>\n",
       "      <td>0</td>\n",
       "      <td>3</td>\n",
       "      <td>male</td>\n",
       "      <td>35.0</td>\n",
       "      <td>0</td>\n",
       "      <td>0</td>\n",
       "      <td>8.0500</td>\n",
       "      <td>S</td>\n",
       "    </tr>\n",
       "  </tbody>\n",
       "</table>\n",
       "</div>"
      ],
      "text/plain": [
       "   Survived  Pclass     Sex   Age  SibSp  Parch     Fare Embarked\n",
       "0         0       3    male  22.0      1      0   7.2500        S\n",
       "1         1       1  female  38.0      1      0  71.2833        C\n",
       "2         1       3  female  26.0      0      0   7.9250        S\n",
       "3         1       1  female  35.0      1      0  53.1000        S\n",
       "4         0       3    male  35.0      0      0   8.0500        S"
      ]
     },
     "execution_count": 9,
     "metadata": {},
     "output_type": "execute_result"
    }
   ],
   "source": [
    "TRAIN.head()"
   ]
  },
  {
   "cell_type": "code",
   "execution_count": 10,
   "id": "d274be5b",
   "metadata": {
    "execution": {
     "iopub.execute_input": "2023-04-09T10:08:04.490512Z",
     "iopub.status.busy": "2023-04-09T10:08:04.489966Z",
     "iopub.status.idle": "2023-04-09T10:08:04.503263Z",
     "shell.execute_reply": "2023-04-09T10:08:04.502457Z"
    },
    "executionInfo": {
     "elapsed": 831,
     "status": "ok",
     "timestamp": 1681033248746,
     "user": {
      "displayName": "Mallikarjun Thripuraboina",
      "userId": "01775111500134944659"
     },
     "user_tz": -330
    },
    "id": "LAR1AgUQayr4",
    "papermill": {
     "duration": 0.042973,
     "end_time": "2023-04-09T10:08:04.505355",
     "exception": false,
     "start_time": "2023-04-09T10:08:04.462382",
     "status": "completed"
    },
    "tags": []
   },
   "outputs": [],
   "source": [
    "TRAIN[cat] = TRAIN[cat].astype('category')"
   ]
  },
  {
   "cell_type": "code",
   "execution_count": 11,
   "id": "e30b0381",
   "metadata": {
    "execution": {
     "iopub.execute_input": "2023-04-09T10:08:04.563466Z",
     "iopub.status.busy": "2023-04-09T10:08:04.562842Z",
     "iopub.status.idle": "2023-04-09T10:08:04.570327Z",
     "shell.execute_reply": "2023-04-09T10:08:04.569443Z"
    },
    "executionInfo": {
     "elapsed": 57,
     "status": "ok",
     "timestamp": 1681033248748,
     "user": {
      "displayName": "Mallikarjun Thripuraboina",
      "userId": "01775111500134944659"
     },
     "user_tz": -330
    },
    "id": "5mirZlKVU3CW",
    "outputId": "c4f6e32e-0f94-4bbb-f2da-6fbff817a2e6",
    "papermill": {
     "duration": 0.038634,
     "end_time": "2023-04-09T10:08:04.572242",
     "exception": false,
     "start_time": "2023-04-09T10:08:04.533608",
     "status": "completed"
    },
    "tags": []
   },
   "outputs": [
    {
     "data": {
      "text/plain": [
       "0    549\n",
       "1    342\n",
       "Name: Survived, dtype: int64"
      ]
     },
     "execution_count": 11,
     "metadata": {},
     "output_type": "execute_result"
    }
   ],
   "source": [
    "TRAIN['Survived'].value_counts()"
   ]
  },
  {
   "cell_type": "code",
   "execution_count": 12,
   "id": "79dfc88b",
   "metadata": {
    "execution": {
     "iopub.execute_input": "2023-04-09T10:08:04.633543Z",
     "iopub.status.busy": "2023-04-09T10:08:04.632463Z",
     "iopub.status.idle": "2023-04-09T10:08:04.645790Z",
     "shell.execute_reply": "2023-04-09T10:08:04.644235Z"
    },
    "executionInfo": {
     "elapsed": 53,
     "status": "ok",
     "timestamp": 1681033248749,
     "user": {
      "displayName": "Mallikarjun Thripuraboina",
      "userId": "01775111500134944659"
     },
     "user_tz": -330
    },
    "id": "rVkssDwvNLAh",
    "outputId": "a455d9b4-ac8e-4377-f331-b112870122a5",
    "papermill": {
     "duration": 0.050682,
     "end_time": "2023-04-09T10:08:04.649726",
     "exception": false,
     "start_time": "2023-04-09T10:08:04.599044",
     "status": "completed"
    },
    "tags": []
   },
   "outputs": [
    {
     "data": {
      "text/plain": [
       "0    61.616162\n",
       "1    38.383838\n",
       "Name: Survived, dtype: float64"
      ]
     },
     "execution_count": 12,
     "metadata": {},
     "output_type": "execute_result"
    }
   ],
   "source": [
    "TRAIN['Survived'].value_counts(normalize=True)*100"
   ]
  },
  {
   "cell_type": "code",
   "execution_count": 13,
   "id": "aed47273",
   "metadata": {
    "execution": {
     "iopub.execute_input": "2023-04-09T10:08:04.711113Z",
     "iopub.status.busy": "2023-04-09T10:08:04.709627Z",
     "iopub.status.idle": "2023-04-09T10:08:04.853080Z",
     "shell.execute_reply": "2023-04-09T10:08:04.852307Z"
    },
    "executionInfo": {
     "elapsed": 47,
     "status": "ok",
     "timestamp": 1681033248750,
     "user": {
      "displayName": "Mallikarjun Thripuraboina",
      "userId": "01775111500134944659"
     },
     "user_tz": -330
    },
    "id": "T6ydGGCHUTQQ",
    "outputId": "ae495b10-d30c-4917-ddb5-6181a388db93",
    "papermill": {
     "duration": 0.174984,
     "end_time": "2023-04-09T10:08:04.855471",
     "exception": false,
     "start_time": "2023-04-09T10:08:04.680487",
     "status": "completed"
    },
    "tags": []
   },
   "outputs": [
    {
     "data": {
      "image/png": "[encoded data removed]",
      "text/plain": [
       "<Figure size 640x480 with 1 Axes>"
      ]
     },
     "metadata": {},
     "output_type": "display_data"
    }
   ],
   "source": [
    "#count plot on single categorical variable\n",
    "sns.countplot(x ='Survived', data = TRAIN)\n",
    "plt.show()"
   ]
  },
  {
   "cell_type": "code",
   "execution_count": 14,
   "id": "0dafb180",
   "metadata": {
    "execution": {
     "iopub.execute_input": "2023-04-09T10:08:04.914645Z",
     "iopub.status.busy": "2023-04-09T10:08:04.914176Z",
     "iopub.status.idle": "2023-04-09T10:08:04.921321Z",
     "shell.execute_reply": "2023-04-09T10:08:04.920415Z"
    },
    "executionInfo": {
     "elapsed": 47,
     "status": "ok",
     "timestamp": 1681033248751,
     "user": {
      "displayName": "Mallikarjun Thripuraboina",
      "userId": "01775111500134944659"
     },
     "user_tz": -330
    },
    "id": "O5iFJQIaUb5n",
    "outputId": "7bdd4320-8d38-46e5-bee0-e9d93587c6a3",
    "papermill": {
     "duration": 0.037801,
     "end_time": "2023-04-09T10:08:04.924333",
     "exception": false,
     "start_time": "2023-04-09T10:08:04.886532",
     "status": "completed"
    },
    "tags": []
   },
   "outputs": [
    {
     "data": {
      "text/plain": [
       "Survived       int64\n",
       "Pclass      category\n",
       "Sex         category\n",
       "Age          float64\n",
       "SibSp       category\n",
       "Parch       category\n",
       "Fare         float64\n",
       "Embarked    category\n",
       "dtype: object"
      ]
     },
     "execution_count": 14,
     "metadata": {},
     "output_type": "execute_result"
    }
   ],
   "source": [
    "TRAIN.dtypes"
   ]
  },
  {
   "cell_type": "code",
   "execution_count": 15,
   "id": "53ca49e2",
   "metadata": {
    "execution": {
     "iopub.execute_input": "2023-04-09T10:08:04.979713Z",
     "iopub.status.busy": "2023-04-09T10:08:04.979355Z",
     "iopub.status.idle": "2023-04-09T10:08:05.518325Z",
     "shell.execute_reply": "2023-04-09T10:08:05.517098Z"
    },
    "executionInfo": {
     "elapsed": 42,
     "status": "ok",
     "timestamp": 1681033248752,
     "user": {
      "displayName": "Mallikarjun Thripuraboina",
      "userId": "01775111500134944659"
     },
     "user_tz": -330
    },
    "id": "D1t9Vd8gD2Lv",
    "outputId": "00ffe704-9217-4f19-aff2-f8f8b714bc62",
    "papermill": {
     "duration": 0.569024,
     "end_time": "2023-04-09T10:08:05.520464",
     "exception": false,
     "start_time": "2023-04-09T10:08:04.951440",
     "status": "completed"
    },
    "tags": []
   },
   "outputs": [
    {
     "name": "stdout",
     "output_type": "stream",
     "text": [
      "[[<AxesSubplot:title={'center':'Survived'}>\n",
      "  <AxesSubplot:title={'center':'Age'}>]\n",
      " [<AxesSubplot:title={'center':'Fare'}> <AxesSubplot:>]]\n"
     ]
    },
    {
     "data": {
      "image/png": "[encoded data removed]",
      "text/plain": [
       "<Figure size 1200x1200 with 4 Axes>"
      ]
     },
     "metadata": {},
     "output_type": "display_data"
    }
   ],
   "source": [
    "print(TRAIN.hist(figsize=(12,12),color=\"y\"))"
   ]
  },
  {
   "cell_type": "code",
   "execution_count": 16,
   "id": "506803c1",
   "metadata": {
    "execution": {
     "iopub.execute_input": "2023-04-09T10:08:05.577710Z",
     "iopub.status.busy": "2023-04-09T10:08:05.577369Z",
     "iopub.status.idle": "2023-04-09T10:08:05.743374Z",
     "shell.execute_reply": "2023-04-09T10:08:05.742566Z"
    },
    "executionInfo": {
     "elapsed": 756,
     "status": "ok",
     "timestamp": 1681033249472,
     "user": {
      "displayName": "Mallikarjun Thripuraboina",
      "userId": "01775111500134944659"
     },
     "user_tz": -330
    },
    "id": "hvQ4wY-cXQDq",
    "outputId": "9d3b76b5-7d70-470a-e3d9-958580db4889",
    "papermill": {
     "duration": 0.196927,
     "end_time": "2023-04-09T10:08:05.745707",
     "exception": false,
     "start_time": "2023-04-09T10:08:05.548780",
     "status": "completed"
    },
    "tags": []
   },
   "outputs": [
    {
     "data": {
      "text/plain": [
       "<AxesSubplot:xlabel='Pclass', ylabel='count'>"
      ]
     },
     "execution_count": 16,
     "metadata": {},
     "output_type": "execute_result"
    },
    {
     "data": {
      "image/png": "[encoded data removed]",
      "text/plain": [
       "<Figure size 640x480 with 1 Axes>"
      ]
     },
     "metadata": {},
     "output_type": "display_data"
    }
   ],
   "source": [
    "sns.countplot(data=TRAIN, x=\"Pclass\", hue=\"Survived\")"
   ]
  },
  {
   "cell_type": "code",
   "execution_count": 17,
   "id": "efacdb8e",
   "metadata": {
    "execution": {
     "iopub.execute_input": "2023-04-09T10:08:05.803458Z",
     "iopub.status.busy": "2023-04-09T10:08:05.802831Z",
     "iopub.status.idle": "2023-04-09T10:08:05.808881Z",
     "shell.execute_reply": "2023-04-09T10:08:05.808165Z"
    },
    "executionInfo": {
     "elapsed": 75,
     "status": "ok",
     "timestamp": 1681033249473,
     "user": {
      "displayName": "Mallikarjun Thripuraboina",
      "userId": "01775111500134944659"
     },
     "user_tz": -330
    },
    "id": "MR0Uhb17c2S-",
    "outputId": "23a88032-6846-4942-f66f-233908b272d1",
    "papermill": {
     "duration": 0.037155,
     "end_time": "2023-04-09T10:08:05.810722",
     "exception": false,
     "start_time": "2023-04-09T10:08:05.773567",
     "status": "completed"
    },
    "tags": []
   },
   "outputs": [
    {
     "data": {
      "text/plain": [
       "(891, 8)"
      ]
     },
     "execution_count": 17,
     "metadata": {},
     "output_type": "execute_result"
    }
   ],
   "source": [
    "TRAIN.shape"
   ]
  },
  {
   "cell_type": "code",
   "execution_count": 18,
   "id": "90835e68",
   "metadata": {
    "execution": {
     "iopub.execute_input": "2023-04-09T10:08:05.868509Z",
     "iopub.status.busy": "2023-04-09T10:08:05.867847Z",
     "iopub.status.idle": "2023-04-09T10:08:05.889908Z",
     "shell.execute_reply": "2023-04-09T10:08:05.888985Z"
    },
    "executionInfo": {
     "elapsed": 70,
     "status": "ok",
     "timestamp": 1681033249475,
     "user": {
      "displayName": "Mallikarjun Thripuraboina",
      "userId": "01775111500134944659"
     },
     "user_tz": -330
    },
    "id": "wUhurbWka8h-",
    "outputId": "1737b633-488c-47ba-cdd0-26a578b6757a",
    "papermill": {
     "duration": 0.053675,
     "end_time": "2023-04-09T10:08:05.892625",
     "exception": false,
     "start_time": "2023-04-09T10:08:05.838950",
     "status": "completed"
    },
    "tags": []
   },
   "outputs": [
    {
     "data": {
      "text/html": [
       "<div>\n",
       "<style scoped>\n",
       "    .dataframe tbody tr th:only-of-type {\n",
       "        vertical-align: middle;\n",
       "    }\n",
       "\n",
       "    .dataframe tbody tr th {\n",
       "        vertical-align: top;\n",
       "    }\n",
       "\n",
       "    .dataframe thead th {\n",
       "        text-align: right;\n",
       "    }\n",
       "</style>\n",
       "<table border=\"1\" class=\"dataframe\">\n",
       "  <thead>\n",
       "    <tr style=\"text-align: right;\">\n",
       "      <th></th>\n",
       "      <th>Survived</th>\n",
       "      <th>Age</th>\n",
       "      <th>Fare</th>\n",
       "    </tr>\n",
       "  </thead>\n",
       "  <tbody>\n",
       "    <tr>\n",
       "      <th>count</th>\n",
       "      <td>891.000000</td>\n",
       "      <td>714.000000</td>\n",
       "      <td>891.000000</td>\n",
       "    </tr>\n",
       "    <tr>\n",
       "      <th>mean</th>\n",
       "      <td>0.383838</td>\n",
       "      <td>29.699118</td>\n",
       "      <td>32.204208</td>\n",
       "    </tr>\n",
       "    <tr>\n",
       "      <th>std</th>\n",
       "      <td>0.486592</td>\n",
       "      <td>14.526497</td>\n",
       "      <td>49.693429</td>\n",
       "    </tr>\n",
       "    <tr>\n",
       "      <th>min</th>\n",
       "      <td>0.000000</td>\n",
       "      <td>0.420000</td>\n",
       "      <td>0.000000</td>\n",
       "    </tr>\n",
       "    <tr>\n",
       "      <th>25%</th>\n",
       "      <td>0.000000</td>\n",
       "      <td>20.125000</td>\n",
       "      <td>7.910400</td>\n",
       "    </tr>\n",
       "    <tr>\n",
       "      <th>50%</th>\n",
       "      <td>0.000000</td>\n",
       "      <td>28.000000</td>\n",
       "      <td>14.454200</td>\n",
       "    </tr>\n",
       "    <tr>\n",
       "      <th>75%</th>\n",
       "      <td>1.000000</td>\n",
       "      <td>38.000000</td>\n",
       "      <td>31.000000</td>\n",
       "    </tr>\n",
       "    <tr>\n",
       "      <th>max</th>\n",
       "      <td>1.000000</td>\n",
       "      <td>80.000000</td>\n",
       "      <td>512.329200</td>\n",
       "    </tr>\n",
       "  </tbody>\n",
       "</table>\n",
       "</div>"
      ],
      "text/plain": [
       "         Survived         Age        Fare\n",
       "count  891.000000  714.000000  891.000000\n",
       "mean     0.383838   29.699118   32.204208\n",
       "std      0.486592   14.526497   49.693429\n",
       "min      0.000000    0.420000    0.000000\n",
       "25%      0.000000   20.125000    7.910400\n",
       "50%      0.000000   28.000000   14.454200\n",
       "75%      1.000000   38.000000   31.000000\n",
       "max      1.000000   80.000000  512.329200"
      ]
     },
     "execution_count": 18,
     "metadata": {},
     "output_type": "execute_result"
    }
   ],
   "source": [
    "TRAIN.describe()"
   ]
  },
  {
   "cell_type": "code",
   "execution_count": 19,
   "id": "ca680917",
   "metadata": {
    "execution": {
     "iopub.execute_input": "2023-04-09T10:08:05.951361Z",
     "iopub.status.busy": "2023-04-09T10:08:05.950716Z",
     "iopub.status.idle": "2023-04-09T10:08:05.958301Z",
     "shell.execute_reply": "2023-04-09T10:08:05.957471Z"
    },
    "executionInfo": {
     "elapsed": 70,
     "status": "ok",
     "timestamp": 1681033249476,
     "user": {
      "displayName": "Mallikarjun Thripuraboina",
      "userId": "01775111500134944659"
     },
     "user_tz": -330
    },
    "id": "npyl78_qbhkd",
    "papermill": {
     "duration": 0.039458,
     "end_time": "2023-04-09T10:08:05.960789",
     "exception": false,
     "start_time": "2023-04-09T10:08:05.921331",
     "status": "completed"
    },
    "tags": []
   },
   "outputs": [],
   "source": [
    "Q1 = TRAIN[num].quantile(0.25)\n",
    "Q3 = TRAIN[num].quantile(0.75)\n",
    "IQR = Q3 - Q1"
   ]
  },
  {
   "cell_type": "code",
   "execution_count": 20,
   "id": "512fcee1",
   "metadata": {
    "execution": {
     "iopub.execute_input": "2023-04-09T10:08:06.021803Z",
     "iopub.status.busy": "2023-04-09T10:08:06.021423Z",
     "iopub.status.idle": "2023-04-09T10:08:06.026749Z",
     "shell.execute_reply": "2023-04-09T10:08:06.026093Z"
    },
    "executionInfo": {
     "elapsed": 70,
     "status": "ok",
     "timestamp": 1681033249477,
     "user": {
      "displayName": "Mallikarjun Thripuraboina",
      "userId": "01775111500134944659"
     },
     "user_tz": -330
    },
    "id": "l3jBt5hZbpGr",
    "papermill": {
     "duration": 0.037239,
     "end_time": "2023-04-09T10:08:06.028464",
     "exception": false,
     "start_time": "2023-04-09T10:08:05.991225",
     "status": "completed"
    },
    "tags": []
   },
   "outputs": [],
   "source": [
    "upp_bou = (Q3 + 1.5*IQR)\n",
    "low_bou = (Q1-1.5*IQR)"
   ]
  },
  {
   "cell_type": "code",
   "execution_count": 21,
   "id": "089d4a06",
   "metadata": {
    "execution": {
     "iopub.execute_input": "2023-04-09T10:08:06.089180Z",
     "iopub.status.busy": "2023-04-09T10:08:06.088091Z",
     "iopub.status.idle": "2023-04-09T10:08:06.095926Z",
     "shell.execute_reply": "2023-04-09T10:08:06.094925Z"
    },
    "executionInfo": {
     "elapsed": 70,
     "status": "ok",
     "timestamp": 1681033249477,
     "user": {
      "displayName": "Mallikarjun Thripuraboina",
      "userId": "01775111500134944659"
     },
     "user_tz": -330
    },
    "id": "aCqM5R7WbrNW",
    "outputId": "9d6c6824-7f77-492d-ee91-ca47692032fa",
    "papermill": {
     "duration": 0.040198,
     "end_time": "2023-04-09T10:08:06.097841",
     "exception": false,
     "start_time": "2023-04-09T10:08:06.057643",
     "status": "completed"
    },
    "tags": []
   },
   "outputs": [
    {
     "data": {
      "text/plain": [
       "Age     64.8125\n",
       "Fare    65.6344\n",
       "dtype: float64"
      ]
     },
     "execution_count": 21,
     "metadata": {},
     "output_type": "execute_result"
    }
   ],
   "source": [
    "upp_bou"
   ]
  },
  {
   "cell_type": "code",
   "execution_count": 22,
   "id": "33a7fb25",
   "metadata": {
    "execution": {
     "iopub.execute_input": "2023-04-09T10:08:06.156057Z",
     "iopub.status.busy": "2023-04-09T10:08:06.155451Z",
     "iopub.status.idle": "2023-04-09T10:08:06.163574Z",
     "shell.execute_reply": "2023-04-09T10:08:06.162194Z"
    },
    "executionInfo": {
     "elapsed": 65,
     "status": "ok",
     "timestamp": 1681033249478,
     "user": {
      "displayName": "Mallikarjun Thripuraboina",
      "userId": "01775111500134944659"
     },
     "user_tz": -330
    },
    "id": "P-YdF61dcFRm",
    "outputId": "a1f04817-7f77-4970-b4c9-c06b2c2c3eb7",
    "papermill": {
     "duration": 0.039834,
     "end_time": "2023-04-09T10:08:06.165683",
     "exception": false,
     "start_time": "2023-04-09T10:08:06.125849",
     "status": "completed"
    },
    "tags": []
   },
   "outputs": [
    {
     "data": {
      "text/plain": [
       "Age     -6.6875\n",
       "Fare   -26.7240\n",
       "dtype: float64"
      ]
     },
     "execution_count": 22,
     "metadata": {},
     "output_type": "execute_result"
    }
   ],
   "source": [
    "low_bou"
   ]
  },
  {
   "cell_type": "code",
   "execution_count": 23,
   "id": "bb71ec1a",
   "metadata": {
    "execution": {
     "iopub.execute_input": "2023-04-09T10:08:06.224900Z",
     "iopub.status.busy": "2023-04-09T10:08:06.224500Z",
     "iopub.status.idle": "2023-04-09T10:08:06.948767Z",
     "shell.execute_reply": "2023-04-09T10:08:06.947871Z"
    },
    "executionInfo": {
     "elapsed": 738,
     "status": "ok",
     "timestamp": 1681033250162,
     "user": {
      "displayName": "Mallikarjun Thripuraboina",
      "userId": "01775111500134944659"
     },
     "user_tz": -330
    },
    "id": "fRCG8QZ9gkXr",
    "outputId": "cdfc3e49-354c-417a-b881-c3639689d574",
    "papermill": {
     "duration": 0.757665,
     "end_time": "2023-04-09T10:08:06.951453",
     "exception": false,
     "start_time": "2023-04-09T10:08:06.193788",
     "status": "completed"
    },
    "tags": []
   },
   "outputs": [
    {
     "data": {
      "image/png": "[encoded data removed]",
      "text/plain": [
       "<Figure size 1500x1500 with 25 Axes>"
      ]
     },
     "metadata": {},
     "output_type": "display_data"
    }
   ],
   "source": [
    "TRAIN.plot(kind='box', subplots =True , sharex=False, sharey=False, layout=(5,5), figsize=(15,15))\n",
    "plt.show()"
   ]
  },
  {
   "cell_type": "code",
   "execution_count": 24,
   "id": "6917912a",
   "metadata": {
    "execution": {
     "iopub.execute_input": "2023-04-09T10:08:07.010985Z",
     "iopub.status.busy": "2023-04-09T10:08:07.010617Z",
     "iopub.status.idle": "2023-04-09T10:08:07.017199Z",
     "shell.execute_reply": "2023-04-09T10:08:07.015785Z"
    },
    "executionInfo": {
     "elapsed": 57,
     "status": "ok",
     "timestamp": 1681033250164,
     "user": {
      "displayName": "Mallikarjun Thripuraboina",
      "userId": "01775111500134944659"
     },
     "user_tz": -330
    },
    "id": "fuX0J9qUhAzF",
    "outputId": "46b8b3e3-27c2-42ae-a29b-1b3d8d66cd8c",
    "papermill": {
     "duration": 0.038944,
     "end_time": "2023-04-09T10:08:07.019417",
     "exception": false,
     "start_time": "2023-04-09T10:08:06.980473",
     "status": "completed"
    },
    "tags": []
   },
   "outputs": [
    {
     "data": {
      "text/plain": [
       "(891, 8)"
      ]
     },
     "execution_count": 24,
     "metadata": {},
     "output_type": "execute_result"
    }
   ],
   "source": [
    "TRAIN.shape"
   ]
  },
  {
   "cell_type": "code",
   "execution_count": 25,
   "id": "eed42757",
   "metadata": {
    "execution": {
     "iopub.execute_input": "2023-04-09T10:08:07.079390Z",
     "iopub.status.busy": "2023-04-09T10:08:07.078789Z",
     "iopub.status.idle": "2023-04-09T10:08:07.330646Z",
     "shell.execute_reply": "2023-04-09T10:08:07.329779Z"
    },
    "executionInfo": {
     "elapsed": 1116,
     "status": "ok",
     "timestamp": 1681033251236,
     "user": {
      "displayName": "Mallikarjun Thripuraboina",
      "userId": "01775111500134944659"
     },
     "user_tz": -330
    },
    "id": "laNimlwqyN0b",
    "outputId": "4ad4edbd-ab66-4a83-e389-a55a1437feca",
    "papermill": {
     "duration": 0.284177,
     "end_time": "2023-04-09T10:08:07.332656",
     "exception": false,
     "start_time": "2023-04-09T10:08:07.048479",
     "status": "completed"
    },
    "tags": []
   },
   "outputs": [
    {
     "data": {
      "text/plain": [
       "Text(0, 0.5, 'COUNT')"
      ]
     },
     "execution_count": 25,
     "metadata": {},
     "output_type": "execute_result"
    },
    {
     "data": {
      "image/png": "[encoded data removed]",
      "text/plain": [
       "<Figure size 640x480 with 1 Axes>"
      ]
     },
     "metadata": {},
     "output_type": "display_data"
    }
   ],
   "source": [
    "fig=TRAIN['Age'].hist(bins=50)\n",
    "fig.set_title('Age')\n",
    "fig.set_xlabel('Age')\n",
    "fig.set_ylabel('COUNT')"
   ]
  },
  {
   "cell_type": "code",
   "execution_count": 26,
   "id": "bf1a1ffc",
   "metadata": {
    "execution": {
     "iopub.execute_input": "2023-04-09T10:08:07.394248Z",
     "iopub.status.busy": "2023-04-09T10:08:07.392961Z",
     "iopub.status.idle": "2023-04-09T10:08:07.400851Z",
     "shell.execute_reply": "2023-04-09T10:08:07.399654Z"
    },
    "executionInfo": {
     "elapsed": 113,
     "status": "ok",
     "timestamp": 1681033251238,
     "user": {
      "displayName": "Mallikarjun Thripuraboina",
      "userId": "01775111500134944659"
     },
     "user_tz": -330
    },
    "id": "IAqaVfc8y6Up",
    "papermill": {
     "duration": 0.041066,
     "end_time": "2023-04-09T10:08:07.403272",
     "exception": false,
     "start_time": "2023-04-09T10:08:07.362206",
     "status": "completed"
    },
    "tags": []
   },
   "outputs": [],
   "source": [
    "indexAge = TRAIN[(TRAIN['Age'] < low_bou['Age']) |(TRAIN['Age'] > upp_bou['Age'])].index\n",
    "TRAIN.drop(indexAge , inplace=True)"
   ]
  },
  {
   "cell_type": "code",
   "execution_count": 27,
   "id": "20ea0a64",
   "metadata": {
    "execution": {
     "iopub.execute_input": "2023-04-09T10:08:07.462554Z",
     "iopub.status.busy": "2023-04-09T10:08:07.462158Z",
     "iopub.status.idle": "2023-04-09T10:08:07.469311Z",
     "shell.execute_reply": "2023-04-09T10:08:07.468050Z"
    },
    "executionInfo": {
     "elapsed": 114,
     "status": "ok",
     "timestamp": 1681033251240,
     "user": {
      "displayName": "Mallikarjun Thripuraboina",
      "userId": "01775111500134944659"
     },
     "user_tz": -330
    },
    "id": "DxazsLUuzQao",
    "outputId": "2b7b0bc2-8839-4d81-8011-f0f4a005cef8",
    "papermill": {
     "duration": 0.038963,
     "end_time": "2023-04-09T10:08:07.471168",
     "exception": false,
     "start_time": "2023-04-09T10:08:07.432205",
     "status": "completed"
    },
    "tags": []
   },
   "outputs": [
    {
     "data": {
      "text/plain": [
       "(880, 8)"
      ]
     },
     "execution_count": 27,
     "metadata": {},
     "output_type": "execute_result"
    }
   ],
   "source": [
    "TRAIN.shape"
   ]
  },
  {
   "cell_type": "code",
   "execution_count": 28,
   "id": "0d4600b8",
   "metadata": {
    "execution": {
     "iopub.execute_input": "2023-04-09T10:08:07.532319Z",
     "iopub.status.busy": "2023-04-09T10:08:07.531704Z",
     "iopub.status.idle": "2023-04-09T10:08:07.785804Z",
     "shell.execute_reply": "2023-04-09T10:08:07.784094Z"
    },
    "executionInfo": {
     "elapsed": 107,
     "status": "ok",
     "timestamp": 1681033251243,
     "user": {
      "displayName": "Mallikarjun Thripuraboina",
      "userId": "01775111500134944659"
     },
     "user_tz": -330
    },
    "id": "hUEiWlYPzWCq",
    "outputId": "e9a1e846-b5b8-45e0-d6cf-c6f5f7a8dbe0",
    "papermill": {
     "duration": 0.288811,
     "end_time": "2023-04-09T10:08:07.788446",
     "exception": false,
     "start_time": "2023-04-09T10:08:07.499635",
     "status": "completed"
    },
    "tags": []
   },
   "outputs": [
    {
     "data": {
      "text/plain": [
       "Text(0, 0.5, 'COUNT')"
      ]
     },
     "execution_count": 28,
     "metadata": {},
     "output_type": "execute_result"
    },
    {
     "data": {
      "image/png": "[encoded data removed]",
      "text/plain": [
       "<Figure size 640x480 with 1 Axes>"
      ]
     },
     "metadata": {},
     "output_type": "display_data"
    }
   ],
   "source": [
    "fig=TRAIN['Age'].hist(bins=50)\n",
    "fig.set_title('Age')\n",
    "fig.set_xlabel('Age')\n",
    "fig.set_ylabel('COUNT')"
   ]
  },
  {
   "cell_type": "code",
   "execution_count": 29,
   "id": "f1963448",
   "metadata": {
    "execution": {
     "iopub.execute_input": "2023-04-09T10:08:07.849585Z",
     "iopub.status.busy": "2023-04-09T10:08:07.849239Z",
     "iopub.status.idle": "2023-04-09T10:08:08.098978Z",
     "shell.execute_reply": "2023-04-09T10:08:08.097709Z"
    },
    "executionInfo": {
     "elapsed": 100,
     "status": "ok",
     "timestamp": 1681033251245,
     "user": {
      "displayName": "Mallikarjun Thripuraboina",
      "userId": "01775111500134944659"
     },
     "user_tz": -330
    },
    "id": "p-SyU-Fuzcu0",
    "outputId": "5e8ddf9f-c2a0-4030-ff08-699c235aa448",
    "papermill": {
     "duration": 0.283112,
     "end_time": "2023-04-09T10:08:08.101098",
     "exception": false,
     "start_time": "2023-04-09T10:08:07.817986",
     "status": "completed"
    },
    "tags": []
   },
   "outputs": [
    {
     "data": {
      "text/plain": [
       "Text(0, 0.5, 'COUNT')"
      ]
     },
     "execution_count": 29,
     "metadata": {},
     "output_type": "execute_result"
    },
    {
     "data": {
      "image/png": "[encoded data removed]",
      "text/plain": [
       "<Figure size 640x480 with 1 Axes>"
      ]
     },
     "metadata": {},
     "output_type": "display_data"
    }
   ],
   "source": [
    "fig=TRAIN['Fare'].hist(bins=50)\n",
    "fig.set_title('Fare')\n",
    "fig.set_xlabel('Fare')\n",
    "fig.set_ylabel('COUNT')"
   ]
  },
  {
   "cell_type": "code",
   "execution_count": 30,
   "id": "53608719",
   "metadata": {
    "execution": {
     "iopub.execute_input": "2023-04-09T10:08:08.162107Z",
     "iopub.status.busy": "2023-04-09T10:08:08.161732Z",
     "iopub.status.idle": "2023-04-09T10:08:08.170527Z",
     "shell.execute_reply": "2023-04-09T10:08:08.169205Z"
    },
    "executionInfo": {
     "elapsed": 90,
     "status": "ok",
     "timestamp": 1681033251247,
     "user": {
      "displayName": "Mallikarjun Thripuraboina",
      "userId": "01775111500134944659"
     },
     "user_tz": -330
    },
    "id": "AIU_w5HLzqUG",
    "papermill": {
     "duration": 0.042029,
     "end_time": "2023-04-09T10:08:08.172684",
     "exception": false,
     "start_time": "2023-04-09T10:08:08.130655",
     "status": "completed"
    },
    "tags": []
   },
   "outputs": [],
   "source": [
    "indexAge = TRAIN[(TRAIN['Fare'] < low_bou['Fare']) |(TRAIN['Fare'] > upp_bou['Fare'])].index\n",
    "TRAIN.drop(indexAge , inplace=True)"
   ]
  },
  {
   "cell_type": "code",
   "execution_count": 31,
   "id": "8b187181",
   "metadata": {
    "execution": {
     "iopub.execute_input": "2023-04-09T10:08:08.234972Z",
     "iopub.status.busy": "2023-04-09T10:08:08.234598Z",
     "iopub.status.idle": "2023-04-09T10:08:08.241431Z",
     "shell.execute_reply": "2023-04-09T10:08:08.240326Z"
    },
    "executionInfo": {
     "elapsed": 93,
     "status": "ok",
     "timestamp": 1681033251251,
     "user": {
      "displayName": "Mallikarjun Thripuraboina",
      "userId": "01775111500134944659"
     },
     "user_tz": -330
    },
    "id": "dJGNB1avzyqM",
    "outputId": "2eee590b-2920-4811-893f-51a497a58572",
    "papermill": {
     "duration": 0.040967,
     "end_time": "2023-04-09T10:08:08.243820",
     "exception": false,
     "start_time": "2023-04-09T10:08:08.202853",
     "status": "completed"
    },
    "tags": []
   },
   "outputs": [
    {
     "data": {
      "text/plain": [
       "(765, 8)"
      ]
     },
     "execution_count": 31,
     "metadata": {},
     "output_type": "execute_result"
    }
   ],
   "source": [
    "TRAIN.shape"
   ]
  },
  {
   "cell_type": "code",
   "execution_count": 32,
   "id": "8b213bd4",
   "metadata": {
    "execution": {
     "iopub.execute_input": "2023-04-09T10:08:08.305690Z",
     "iopub.status.busy": "2023-04-09T10:08:08.304234Z",
     "iopub.status.idle": "2023-04-09T10:08:08.558784Z",
     "shell.execute_reply": "2023-04-09T10:08:08.557762Z"
    },
    "executionInfo": {
     "elapsed": 590,
     "status": "ok",
     "timestamp": 1681033251757,
     "user": {
      "displayName": "Mallikarjun Thripuraboina",
      "userId": "01775111500134944659"
     },
     "user_tz": -330
    },
    "id": "M0YaCGUAz0XA",
    "outputId": "714c1b59-f2cb-49ca-9fbd-dedfabbb94dc",
    "papermill": {
     "duration": 0.287841,
     "end_time": "2023-04-09T10:08:08.561277",
     "exception": false,
     "start_time": "2023-04-09T10:08:08.273436",
     "status": "completed"
    },
    "tags": []
   },
   "outputs": [
    {
     "data": {
      "text/plain": [
       "Text(0, 0.5, 'COUNT')"
      ]
     },
     "execution_count": 32,
     "metadata": {},
     "output_type": "execute_result"
    },
    {
     "data": {
      "image/png": "[encoded data removed]",
      "text/plain": [
       "<Figure size 640x480 with 1 Axes>"
      ]
     },
     "metadata": {},
     "output_type": "display_data"
    }
   ],
   "source": [
    "fig=TRAIN['Fare'].hist(bins=50)\n",
    "fig.set_title('Fare')\n",
    "fig.set_xlabel('Fare')\n",
    "fig.set_ylabel('COUNT')"
   ]
  },
  {
   "cell_type": "code",
   "execution_count": 33,
   "id": "2e29ffaf",
   "metadata": {
    "execution": {
     "iopub.execute_input": "2023-04-09T10:08:08.625098Z",
     "iopub.status.busy": "2023-04-09T10:08:08.624067Z",
     "iopub.status.idle": "2023-04-09T10:08:09.417385Z",
     "shell.execute_reply": "2023-04-09T10:08:09.416456Z"
    },
    "executionInfo": {
     "elapsed": 1074,
     "status": "ok",
     "timestamp": 1681033252796,
     "user": {
      "displayName": "Mallikarjun Thripuraboina",
      "userId": "01775111500134944659"
     },
     "user_tz": -330
    },
    "id": "xx892ylxz26v",
    "outputId": "3f34e884-2711-49d0-80b3-f80731a2f627",
    "papermill": {
     "duration": 0.828692,
     "end_time": "2023-04-09T10:08:09.419952",
     "exception": false,
     "start_time": "2023-04-09T10:08:08.591260",
     "status": "completed"
    },
    "tags": []
   },
   "outputs": [
    {
     "data": {
      "image/png": "[encoded data removed]",
      "text/plain": [
       "<Figure size 1500x1500 with 25 Axes>"
      ]
     },
     "metadata": {},
     "output_type": "display_data"
    }
   ],
   "source": [
    "TRAIN.plot(kind='box', subplots =True , sharex=False, sharey=False, layout=(5,5), figsize=(15,15))\n",
    "plt.show()"
   ]
  },
  {
   "cell_type": "code",
   "execution_count": 34,
   "id": "101f51b3",
   "metadata": {
    "execution": {
     "iopub.execute_input": "2023-04-09T10:08:09.484466Z",
     "iopub.status.busy": "2023-04-09T10:08:09.484078Z",
     "iopub.status.idle": "2023-04-09T10:08:09.488702Z",
     "shell.execute_reply": "2023-04-09T10:08:09.487698Z"
    },
    "executionInfo": {
     "elapsed": 150,
     "status": "ok",
     "timestamp": 1681033252798,
     "user": {
      "displayName": "Mallikarjun Thripuraboina",
      "userId": "01775111500134944659"
     },
     "user_tz": -330
    },
    "id": "qzRvInM44Hly",
    "papermill": {
     "duration": 0.03873,
     "end_time": "2023-04-09T10:08:09.490600",
     "exception": false,
     "start_time": "2023-04-09T10:08:09.451870",
     "status": "completed"
    },
    "tags": []
   },
   "outputs": [],
   "source": [
    "y=TRAIN['Survived']"
   ]
  },
  {
   "cell_type": "code",
   "execution_count": 35,
   "id": "9f4e38fd",
   "metadata": {
    "execution": {
     "iopub.execute_input": "2023-04-09T10:08:09.553593Z",
     "iopub.status.busy": "2023-04-09T10:08:09.552955Z",
     "iopub.status.idle": "2023-04-09T10:08:09.564500Z",
     "shell.execute_reply": "2023-04-09T10:08:09.563435Z"
    },
    "executionInfo": {
     "elapsed": 148,
     "status": "ok",
     "timestamp": 1681033252799,
     "user": {
      "displayName": "Mallikarjun Thripuraboina",
      "userId": "01775111500134944659"
     },
     "user_tz": -330
    },
    "id": "wezmTkCF2ISq",
    "papermill": {
     "duration": 0.046984,
     "end_time": "2023-04-09T10:08:09.567952",
     "exception": false,
     "start_time": "2023-04-09T10:08:09.520968",
     "status": "completed"
    },
    "tags": []
   },
   "outputs": [],
   "source": [
    "x_train, x_test , y_train , y_test = train_test_split(TRAIN.loc[:,TRAIN.columns !='Survived'], TRAIN.loc[:,'Survived'], stratify=y,test_size=0.3, random_state=123)"
   ]
  },
  {
   "cell_type": "code",
   "execution_count": 36,
   "id": "e1475221",
   "metadata": {
    "execution": {
     "iopub.execute_input": "2023-04-09T10:08:09.631773Z",
     "iopub.status.busy": "2023-04-09T10:08:09.631399Z",
     "iopub.status.idle": "2023-04-09T10:08:09.649142Z",
     "shell.execute_reply": "2023-04-09T10:08:09.648192Z"
    },
    "executionInfo": {
     "elapsed": 147,
     "status": "ok",
     "timestamp": 1681033252800,
     "user": {
      "displayName": "Mallikarjun Thripuraboina",
      "userId": "01775111500134944659"
     },
     "user_tz": -330
    },
    "id": "sIQYg9jG2QaY",
    "outputId": "60a0ab89-87bc-4f86-a9fc-cf5619420e8d",
    "papermill": {
     "duration": 0.052142,
     "end_time": "2023-04-09T10:08:09.651030",
     "exception": false,
     "start_time": "2023-04-09T10:08:09.598888",
     "status": "completed"
    },
    "tags": []
   },
   "outputs": [
    {
     "data": {
      "text/html": [
       "<div>\n",
       "<style scoped>\n",
       "    .dataframe tbody tr th:only-of-type {\n",
       "        vertical-align: middle;\n",
       "    }\n",
       "\n",
       "    .dataframe tbody tr th {\n",
       "        vertical-align: top;\n",
       "    }\n",
       "\n",
       "    .dataframe thead th {\n",
       "        text-align: right;\n",
       "    }\n",
       "</style>\n",
       "<table border=\"1\" class=\"dataframe\">\n",
       "  <thead>\n",
       "    <tr style=\"text-align: right;\">\n",
       "      <th></th>\n",
       "      <th>Pclass</th>\n",
       "      <th>Sex</th>\n",
       "      <th>Age</th>\n",
       "      <th>SibSp</th>\n",
       "      <th>Parch</th>\n",
       "      <th>Fare</th>\n",
       "      <th>Embarked</th>\n",
       "    </tr>\n",
       "  </thead>\n",
       "  <tbody>\n",
       "    <tr>\n",
       "      <th>55</th>\n",
       "      <td>1</td>\n",
       "      <td>male</td>\n",
       "      <td>NaN</td>\n",
       "      <td>0</td>\n",
       "      <td>0</td>\n",
       "      <td>35.5000</td>\n",
       "      <td>S</td>\n",
       "    </tr>\n",
       "    <tr>\n",
       "      <th>621</th>\n",
       "      <td>1</td>\n",
       "      <td>male</td>\n",
       "      <td>42.0</td>\n",
       "      <td>1</td>\n",
       "      <td>0</td>\n",
       "      <td>52.5542</td>\n",
       "      <td>S</td>\n",
       "    </tr>\n",
       "    <tr>\n",
       "      <th>58</th>\n",
       "      <td>2</td>\n",
       "      <td>female</td>\n",
       "      <td>5.0</td>\n",
       "      <td>1</td>\n",
       "      <td>2</td>\n",
       "      <td>27.7500</td>\n",
       "      <td>S</td>\n",
       "    </tr>\n",
       "    <tr>\n",
       "      <th>152</th>\n",
       "      <td>3</td>\n",
       "      <td>male</td>\n",
       "      <td>55.5</td>\n",
       "      <td>0</td>\n",
       "      <td>0</td>\n",
       "      <td>8.0500</td>\n",
       "      <td>S</td>\n",
       "    </tr>\n",
       "    <tr>\n",
       "      <th>228</th>\n",
       "      <td>2</td>\n",
       "      <td>male</td>\n",
       "      <td>18.0</td>\n",
       "      <td>0</td>\n",
       "      <td>0</td>\n",
       "      <td>13.0000</td>\n",
       "      <td>S</td>\n",
       "    </tr>\n",
       "  </tbody>\n",
       "</table>\n",
       "</div>"
      ],
      "text/plain": [
       "    Pclass     Sex   Age SibSp Parch     Fare Embarked\n",
       "55       1    male   NaN     0     0  35.5000        S\n",
       "621      1    male  42.0     1     0  52.5542        S\n",
       "58       2  female   5.0     1     2  27.7500        S\n",
       "152      3    male  55.5     0     0   8.0500        S\n",
       "228      2    male  18.0     0     0  13.0000        S"
      ]
     },
     "execution_count": 36,
     "metadata": {},
     "output_type": "execute_result"
    }
   ],
   "source": [
    "x_train.head()"
   ]
  },
  {
   "cell_type": "code",
   "execution_count": 37,
   "id": "1a52f63e",
   "metadata": {
    "execution": {
     "iopub.execute_input": "2023-04-09T10:08:09.715224Z",
     "iopub.status.busy": "2023-04-09T10:08:09.714113Z",
     "iopub.status.idle": "2023-04-09T10:08:09.720324Z",
     "shell.execute_reply": "2023-04-09T10:08:09.719141Z"
    },
    "executionInfo": {
     "elapsed": 144,
     "status": "ok",
     "timestamp": 1681033252801,
     "user": {
      "displayName": "Mallikarjun Thripuraboina",
      "userId": "01775111500134944659"
     },
     "user_tz": -330
    },
    "id": "aWsJARal4XcH",
    "outputId": "27b05252-bae9-478a-cee4-008c68450ede",
    "papermill": {
     "duration": 0.041948,
     "end_time": "2023-04-09T10:08:09.722868",
     "exception": false,
     "start_time": "2023-04-09T10:08:09.680920",
     "status": "completed"
    },
    "tags": []
   },
   "outputs": [
    {
     "name": "stdout",
     "output_type": "stream",
     "text": [
      "(535, 7)\n",
      "(535,)\n",
      "(230, 7)\n",
      "(230,)\n"
     ]
    }
   ],
   "source": [
    "print(x_train.shape)\n",
    "print(y_train.shape)\n",
    "print(x_test.shape)\n",
    "print(y_test.shape)"
   ]
  },
  {
   "cell_type": "code",
   "execution_count": 38,
   "id": "fd25b34d",
   "metadata": {
    "execution": {
     "iopub.execute_input": "2023-04-09T10:08:09.787450Z",
     "iopub.status.busy": "2023-04-09T10:08:09.787083Z",
     "iopub.status.idle": "2023-04-09T10:08:09.794306Z",
     "shell.execute_reply": "2023-04-09T10:08:09.793002Z"
    },
    "executionInfo": {
     "elapsed": 127,
     "status": "ok",
     "timestamp": 1681033252802,
     "user": {
      "displayName": "Mallikarjun Thripuraboina",
      "userId": "01775111500134944659"
     },
     "user_tz": -330
    },
    "id": "2bCWdW5Y6Fin",
    "outputId": "acbb2f1c-1a07-44b2-8342-00484342a6f3",
    "papermill": {
     "duration": 0.041681,
     "end_time": "2023-04-09T10:08:09.796214",
     "exception": false,
     "start_time": "2023-04-09T10:08:09.754533",
     "status": "completed"
    },
    "tags": []
   },
   "outputs": [
    {
     "data": {
      "text/plain": [
       "Pclass      category\n",
       "Sex         category\n",
       "Age          float64\n",
       "SibSp       category\n",
       "Parch       category\n",
       "Fare         float64\n",
       "Embarked    category\n",
       "dtype: object"
      ]
     },
     "execution_count": 38,
     "metadata": {},
     "output_type": "execute_result"
    }
   ],
   "source": [
    "x_train.dtypes"
   ]
  },
  {
   "cell_type": "code",
   "execution_count": 39,
   "id": "5c17b006",
   "metadata": {
    "execution": {
     "iopub.execute_input": "2023-04-09T10:08:09.859378Z",
     "iopub.status.busy": "2023-04-09T10:08:09.859018Z",
     "iopub.status.idle": "2023-04-09T10:08:09.866648Z",
     "shell.execute_reply": "2023-04-09T10:08:09.865545Z"
    },
    "executionInfo": {
     "elapsed": 124,
     "status": "ok",
     "timestamp": 1681033252804,
     "user": {
      "displayName": "Mallikarjun Thripuraboina",
      "userId": "01775111500134944659"
     },
     "user_tz": -330
    },
    "id": "UToO2S4s6MlA",
    "papermill": {
     "duration": 0.041583,
     "end_time": "2023-04-09T10:08:09.868592",
     "exception": false,
     "start_time": "2023-04-09T10:08:09.827009",
     "status": "completed"
    },
    "tags": []
   },
   "outputs": [],
   "source": [
    "x_train_num =  x_train_num = x_train[num]\n",
    "x_test_num =  x_test_num = x_test[num]\n",
    "\n",
    "x_train_cat =x_train[cat]\n",
    "x_test_cat =x_test[cat]"
   ]
  },
  {
   "cell_type": "code",
   "execution_count": 40,
   "id": "4ba75a13",
   "metadata": {
    "execution": {
     "iopub.execute_input": "2023-04-09T10:08:09.931083Z",
     "iopub.status.busy": "2023-04-09T10:08:09.930557Z",
     "iopub.status.idle": "2023-04-09T10:08:09.938427Z",
     "shell.execute_reply": "2023-04-09T10:08:09.937574Z"
    },
    "executionInfo": {
     "elapsed": 124,
     "status": "ok",
     "timestamp": 1681033252805,
     "user": {
      "displayName": "Mallikarjun Thripuraboina",
      "userId": "01775111500134944659"
     },
     "user_tz": -330
    },
    "id": "pGzKE93e6QCj",
    "outputId": "6ec734fe-317b-49d6-dd42-abf4f1135610",
    "papermill": {
     "duration": 0.041301,
     "end_time": "2023-04-09T10:08:09.940214",
     "exception": false,
     "start_time": "2023-04-09T10:08:09.898913",
     "status": "completed"
    },
    "tags": []
   },
   "outputs": [
    {
     "data": {
      "text/plain": [
       "Pclass        0\n",
       "Sex           0\n",
       "Age         113\n",
       "SibSp         0\n",
       "Parch         0\n",
       "Fare          0\n",
       "Embarked      0\n",
       "dtype: int64"
      ]
     },
     "execution_count": 40,
     "metadata": {},
     "output_type": "execute_result"
    }
   ],
   "source": [
    "x_train.isna().sum()"
   ]
  },
  {
   "cell_type": "code",
   "execution_count": 41,
   "id": "f2015efc",
   "metadata": {
    "execution": {
     "iopub.execute_input": "2023-04-09T10:08:10.003017Z",
     "iopub.status.busy": "2023-04-09T10:08:10.002493Z",
     "iopub.status.idle": "2023-04-09T10:08:10.193926Z",
     "shell.execute_reply": "2023-04-09T10:08:10.192652Z"
    },
    "executionInfo": {
     "elapsed": 118,
     "status": "ok",
     "timestamp": 1681033252806,
     "user": {
      "displayName": "Mallikarjun Thripuraboina",
      "userId": "01775111500134944659"
     },
     "user_tz": -330
    },
    "id": "hcz528Sy6vMF",
    "papermill": {
     "duration": 0.226752,
     "end_time": "2023-04-09T10:08:10.197326",
     "exception": false,
     "start_time": "2023-04-09T10:08:09.970574",
     "status": "completed"
    },
    "tags": []
   },
   "outputs": [],
   "source": [
    "from sklearn.impute import SimpleImputer"
   ]
  },
  {
   "cell_type": "code",
   "execution_count": 42,
   "id": "bdc84fc7",
   "metadata": {
    "execution": {
     "iopub.execute_input": "2023-04-09T10:08:10.260894Z",
     "iopub.status.busy": "2023-04-09T10:08:10.260551Z",
     "iopub.status.idle": "2023-04-09T10:08:10.266002Z",
     "shell.execute_reply": "2023-04-09T10:08:10.264784Z"
    },
    "executionInfo": {
     "elapsed": 118,
     "status": "ok",
     "timestamp": 1681033252807,
     "user": {
      "displayName": "Mallikarjun Thripuraboina",
      "userId": "01775111500134944659"
     },
     "user_tz": -330
    },
    "id": "A36qGc2d6W2w",
    "papermill": {
     "duration": 0.039904,
     "end_time": "2023-04-09T10:08:10.268196",
     "exception": false,
     "start_time": "2023-04-09T10:08:10.228292",
     "status": "completed"
    },
    "tags": []
   },
   "outputs": [],
   "source": [
    "num_imputer = SimpleImputer(strategy='mean')\n",
    "cat_imputer = SimpleImputer(strategy='most_frequent')"
   ]
  },
  {
   "cell_type": "code",
   "execution_count": 43,
   "id": "d9de845e",
   "metadata": {
    "execution": {
     "iopub.execute_input": "2023-04-09T10:08:10.334864Z",
     "iopub.status.busy": "2023-04-09T10:08:10.333544Z",
     "iopub.status.idle": "2023-04-09T10:08:10.343138Z",
     "shell.execute_reply": "2023-04-09T10:08:10.342404Z"
    },
    "executionInfo": {
     "elapsed": 118,
     "status": "ok",
     "timestamp": 1681033252807,
     "user": {
      "displayName": "Mallikarjun Thripuraboina",
      "userId": "01775111500134944659"
     },
     "user_tz": -330
    },
    "id": "J7MvwjAx6asj",
    "papermill": {
     "duration": 0.04431,
     "end_time": "2023-04-09T10:08:10.345136",
     "exception": false,
     "start_time": "2023-04-09T10:08:10.300826",
     "status": "completed"
    },
    "tags": []
   },
   "outputs": [],
   "source": [
    "x_train_num = pd.DataFrame(num_imputer.fit_transform(x_train_num), columns=x_train_num.columns)\n",
    "x_test_num = pd.DataFrame(num_imputer.transform(x_test_num), columns=x_test_num.columns)"
   ]
  },
  {
   "cell_type": "code",
   "execution_count": 44,
   "id": "aab0d161",
   "metadata": {
    "execution": {
     "iopub.execute_input": "2023-04-09T10:08:10.409687Z",
     "iopub.status.busy": "2023-04-09T10:08:10.408410Z",
     "iopub.status.idle": "2023-04-09T10:08:10.421074Z",
     "shell.execute_reply": "2023-04-09T10:08:10.420362Z"
    },
    "executionInfo": {
     "elapsed": 119,
     "status": "ok",
     "timestamp": 1681033252809,
     "user": {
      "displayName": "Mallikarjun Thripuraboina",
      "userId": "01775111500134944659"
     },
     "user_tz": -330
    },
    "id": "cz4gDr3l6_kg",
    "papermill": {
     "duration": 0.047051,
     "end_time": "2023-04-09T10:08:10.423342",
     "exception": false,
     "start_time": "2023-04-09T10:08:10.376291",
     "status": "completed"
    },
    "tags": []
   },
   "outputs": [],
   "source": [
    "x_train_cat = pd.DataFrame(cat_imputer.fit_transform(x_train_cat), columns = x_train_cat.columns)\n",
    "x_test_cat = pd.DataFrame(cat_imputer.transform(x_test_cat), columns=x_test_cat.columns)"
   ]
  },
  {
   "cell_type": "code",
   "execution_count": 45,
   "id": "1da9f8d1",
   "metadata": {
    "execution": {
     "iopub.execute_input": "2023-04-09T10:08:10.489344Z",
     "iopub.status.busy": "2023-04-09T10:08:10.488090Z",
     "iopub.status.idle": "2023-04-09T10:08:10.496686Z",
     "shell.execute_reply": "2023-04-09T10:08:10.495764Z"
    },
    "executionInfo": {
     "elapsed": 120,
     "status": "ok",
     "timestamp": 1681033252811,
     "user": {
      "displayName": "Mallikarjun Thripuraboina",
      "userId": "01775111500134944659"
     },
     "user_tz": -330
    },
    "id": "dUqG7YMW7CCi",
    "outputId": "5e24d9ae-845e-4537-d68a-b9257be721d5",
    "papermill": {
     "duration": 0.04429,
     "end_time": "2023-04-09T10:08:10.499154",
     "exception": false,
     "start_time": "2023-04-09T10:08:10.454864",
     "status": "completed"
    },
    "tags": []
   },
   "outputs": [
    {
     "data": {
      "text/plain": [
       "Age     0\n",
       "Fare    0\n",
       "dtype: int64"
      ]
     },
     "execution_count": 45,
     "metadata": {},
     "output_type": "execute_result"
    }
   ],
   "source": [
    "x_train_num.isna().sum()"
   ]
  },
  {
   "cell_type": "code",
   "execution_count": 46,
   "id": "a67d77ad",
   "metadata": {
    "execution": {
     "iopub.execute_input": "2023-04-09T10:08:10.565892Z",
     "iopub.status.busy": "2023-04-09T10:08:10.564964Z",
     "iopub.status.idle": "2023-04-09T10:08:10.572637Z",
     "shell.execute_reply": "2023-04-09T10:08:10.571288Z"
    },
    "executionInfo": {
     "elapsed": 117,
     "status": "ok",
     "timestamp": 1681033252813,
     "user": {
      "displayName": "Mallikarjun Thripuraboina",
      "userId": "01775111500134944659"
     },
     "user_tz": -330
    },
    "id": "hNVzo4fN7KQp",
    "outputId": "bd82893b-4a92-41cd-f594-2767921d462b",
    "papermill": {
     "duration": 0.044104,
     "end_time": "2023-04-09T10:08:10.574595",
     "exception": false,
     "start_time": "2023-04-09T10:08:10.530491",
     "status": "completed"
    },
    "tags": []
   },
   "outputs": [
    {
     "data": {
      "text/plain": [
       "Pclass      0\n",
       "Sex         0\n",
       "SibSp       0\n",
       "Parch       0\n",
       "Embarked    0\n",
       "dtype: int64"
      ]
     },
     "execution_count": 46,
     "metadata": {},
     "output_type": "execute_result"
    }
   ],
   "source": [
    "x_train_cat.isna().sum()"
   ]
  },
  {
   "cell_type": "code",
   "execution_count": 47,
   "id": "29227593",
   "metadata": {
    "execution": {
     "iopub.execute_input": "2023-04-09T10:08:10.640924Z",
     "iopub.status.busy": "2023-04-09T10:08:10.639609Z",
     "iopub.status.idle": "2023-04-09T10:08:10.645900Z",
     "shell.execute_reply": "2023-04-09T10:08:10.644444Z"
    },
    "executionInfo": {
     "elapsed": 113,
     "status": "ok",
     "timestamp": 1681033252814,
     "user": {
      "displayName": "Mallikarjun Thripuraboina",
      "userId": "01775111500134944659"
     },
     "user_tz": -330
    },
    "id": "IPH2Sj7p7M2a",
    "papermill": {
     "duration": 0.042019,
     "end_time": "2023-04-09T10:08:10.648638",
     "exception": false,
     "start_time": "2023-04-09T10:08:10.606619",
     "status": "completed"
    },
    "tags": []
   },
   "outputs": [],
   "source": [
    "from sklearn.preprocessing import StandardScaler ,OneHotEncoder"
   ]
  },
  {
   "cell_type": "code",
   "execution_count": 48,
   "id": "387bcd5d",
   "metadata": {
    "execution": {
     "iopub.execute_input": "2023-04-09T10:08:10.713965Z",
     "iopub.status.busy": "2023-04-09T10:08:10.712723Z",
     "iopub.status.idle": "2023-04-09T10:08:10.719140Z",
     "shell.execute_reply": "2023-04-09T10:08:10.717762Z"
    },
    "executionInfo": {
     "elapsed": 114,
     "status": "ok",
     "timestamp": 1681033252815,
     "user": {
      "displayName": "Mallikarjun Thripuraboina",
      "userId": "01775111500134944659"
     },
     "user_tz": -330
    },
    "id": "IA4HIFHA7oA2",
    "papermill": {
     "duration": 0.040902,
     "end_time": "2023-04-09T10:08:10.721418",
     "exception": false,
     "start_time": "2023-04-09T10:08:10.680516",
     "status": "completed"
    },
    "tags": []
   },
   "outputs": [],
   "source": [
    "std = StandardScaler()"
   ]
  },
  {
   "cell_type": "code",
   "execution_count": 49,
   "id": "512219a6",
   "metadata": {
    "execution": {
     "iopub.execute_input": "2023-04-09T10:08:10.787032Z",
     "iopub.status.busy": "2023-04-09T10:08:10.785741Z",
     "iopub.status.idle": "2023-04-09T10:08:10.795072Z",
     "shell.execute_reply": "2023-04-09T10:08:10.794158Z"
    },
    "executionInfo": {
     "elapsed": 115,
     "status": "ok",
     "timestamp": 1681033252817,
     "user": {
      "displayName": "Mallikarjun Thripuraboina",
      "userId": "01775111500134944659"
     },
     "user_tz": -330
    },
    "id": "U7BXelh57smz",
    "papermill": {
     "duration": 0.044875,
     "end_time": "2023-04-09T10:08:10.797924",
     "exception": false,
     "start_time": "2023-04-09T10:08:10.753049",
     "status": "completed"
    },
    "tags": []
   },
   "outputs": [],
   "source": [
    "x_train_num = pd.DataFrame(std.fit_transform(x_train_num), columns=x_train_num.columns)\n",
    "x_test_num = pd.DataFrame(std.transform(x_test_num), columns=x_test_num.columns)"
   ]
  },
  {
   "cell_type": "code",
   "execution_count": 50,
   "id": "ff757ff3",
   "metadata": {
    "execution": {
     "iopub.execute_input": "2023-04-09T10:08:10.862867Z",
     "iopub.status.busy": "2023-04-09T10:08:10.862379Z",
     "iopub.status.idle": "2023-04-09T10:08:10.871940Z",
     "shell.execute_reply": "2023-04-09T10:08:10.871304Z"
    },
    "executionInfo": {
     "elapsed": 116,
     "status": "ok",
     "timestamp": 1681033252818,
     "user": {
      "displayName": "Mallikarjun Thripuraboina",
      "userId": "01775111500134944659"
     },
     "user_tz": -330
    },
    "id": "RBFoNzmJ7wqL",
    "outputId": "a69e74e2-edfc-46ea-853b-b07028958122",
    "papermill": {
     "duration": 0.043792,
     "end_time": "2023-04-09T10:08:10.873822",
     "exception": false,
     "start_time": "2023-04-09T10:08:10.830030",
     "status": "completed"
    },
    "tags": []
   },
   "outputs": [
    {
     "data": {
      "text/html": [
       "<div>\n",
       "<style scoped>\n",
       "    .dataframe tbody tr th:only-of-type {\n",
       "        vertical-align: middle;\n",
       "    }\n",
       "\n",
       "    .dataframe tbody tr th {\n",
       "        vertical-align: top;\n",
       "    }\n",
       "\n",
       "    .dataframe thead th {\n",
       "        text-align: right;\n",
       "    }\n",
       "</style>\n",
       "<table border=\"1\" class=\"dataframe\">\n",
       "  <thead>\n",
       "    <tr style=\"text-align: right;\">\n",
       "      <th></th>\n",
       "      <th>Age</th>\n",
       "      <th>Fare</th>\n",
       "    </tr>\n",
       "  </thead>\n",
       "  <tbody>\n",
       "    <tr>\n",
       "      <th>0</th>\n",
       "      <td>3.107660e-16</td>\n",
       "      <td>1.285616</td>\n",
       "    </tr>\n",
       "    <tr>\n",
       "      <th>1</th>\n",
       "      <td>1.275145e+00</td>\n",
       "      <td>2.540661</td>\n",
       "    </tr>\n",
       "    <tr>\n",
       "      <th>2</th>\n",
       "      <td>-1.961351e+00</td>\n",
       "      <td>0.715282</td>\n",
       "    </tr>\n",
       "    <tr>\n",
       "      <th>3</th>\n",
       "      <td>2.456029e+00</td>\n",
       "      <td>-0.734472</td>\n",
       "    </tr>\n",
       "    <tr>\n",
       "      <th>4</th>\n",
       "      <td>-8.242038e-01</td>\n",
       "      <td>-0.370193</td>\n",
       "    </tr>\n",
       "  </tbody>\n",
       "</table>\n",
       "</div>"
      ],
      "text/plain": [
       "            Age      Fare\n",
       "0  3.107660e-16  1.285616\n",
       "1  1.275145e+00  2.540661\n",
       "2 -1.961351e+00  0.715282\n",
       "3  2.456029e+00 -0.734472\n",
       "4 -8.242038e-01 -0.370193"
      ]
     },
     "execution_count": 50,
     "metadata": {},
     "output_type": "execute_result"
    }
   ],
   "source": [
    "x_train_num.head()"
   ]
  },
  {
   "cell_type": "code",
   "execution_count": 51,
   "id": "7ff68281",
   "metadata": {
    "execution": {
     "iopub.execute_input": "2023-04-09T10:08:10.938422Z",
     "iopub.status.busy": "2023-04-09T10:08:10.937394Z",
     "iopub.status.idle": "2023-04-09T10:08:10.942553Z",
     "shell.execute_reply": "2023-04-09T10:08:10.941520Z"
    },
    "executionInfo": {
     "elapsed": 117,
     "status": "ok",
     "timestamp": 1681033252821,
     "user": {
      "displayName": "Mallikarjun Thripuraboina",
      "userId": "01775111500134944659"
     },
     "user_tz": -330
    },
    "id": "njTuiYWE72Zr",
    "papermill": {
     "duration": 0.038926,
     "end_time": "2023-04-09T10:08:10.944395",
     "exception": false,
     "start_time": "2023-04-09T10:08:10.905469",
     "status": "completed"
    },
    "tags": []
   },
   "outputs": [],
   "source": [
    "ohe = OneHotEncoder(handle_unknown='ignore')"
   ]
  },
  {
   "cell_type": "code",
   "execution_count": 52,
   "id": "52ebeea9",
   "metadata": {
    "execution": {
     "iopub.execute_input": "2023-04-09T10:08:11.058359Z",
     "iopub.status.busy": "2023-04-09T10:08:11.057954Z",
     "iopub.status.idle": "2023-04-09T10:08:11.067861Z",
     "shell.execute_reply": "2023-04-09T10:08:11.067177Z"
    },
    "executionInfo": {
     "elapsed": 118,
     "status": "ok",
     "timestamp": 1681033252822,
     "user": {
      "displayName": "Mallikarjun Thripuraboina",
      "userId": "01775111500134944659"
     },
     "user_tz": -330
    },
    "id": "1L26uyr977ht",
    "papermill": {
     "duration": 0.044828,
     "end_time": "2023-04-09T10:08:11.069883",
     "exception": false,
     "start_time": "2023-04-09T10:08:11.025055",
     "status": "completed"
    },
    "tags": []
   },
   "outputs": [],
   "source": [
    "x_train_cat = pd.DataFrame(ohe.fit_transform(x_train_cat).todense(), columns=ohe.get_feature_names_out())\n",
    "x_test_cat = pd.DataFrame(ohe.transform(x_test_cat).todense(), columns=ohe.get_feature_names_out())"
   ]
  },
  {
   "cell_type": "code",
   "execution_count": 53,
   "id": "fd2881c5",
   "metadata": {
    "execution": {
     "iopub.execute_input": "2023-04-09T10:08:11.133207Z",
     "iopub.status.busy": "2023-04-09T10:08:11.132020Z",
     "iopub.status.idle": "2023-04-09T10:08:11.157551Z",
     "shell.execute_reply": "2023-04-09T10:08:11.156661Z"
    },
    "executionInfo": {
     "elapsed": 118,
     "status": "ok",
     "timestamp": 1681033252822,
     "user": {
      "displayName": "Mallikarjun Thripuraboina",
      "userId": "01775111500134944659"
     },
     "user_tz": -330
    },
    "id": "UBCwmHOX7-x_",
    "outputId": "938a20b3-6966-4341-bb04-b2c892fc6ce0",
    "papermill": {
     "duration": 0.059093,
     "end_time": "2023-04-09T10:08:11.159543",
     "exception": false,
     "start_time": "2023-04-09T10:08:11.100450",
     "status": "completed"
    },
    "tags": []
   },
   "outputs": [
    {
     "data": {
      "text/html": [
       "<div>\n",
       "<style scoped>\n",
       "    .dataframe tbody tr th:only-of-type {\n",
       "        vertical-align: middle;\n",
       "    }\n",
       "\n",
       "    .dataframe tbody tr th {\n",
       "        vertical-align: top;\n",
       "    }\n",
       "\n",
       "    .dataframe thead th {\n",
       "        text-align: right;\n",
       "    }\n",
       "</style>\n",
       "<table border=\"1\" class=\"dataframe\">\n",
       "  <thead>\n",
       "    <tr style=\"text-align: right;\">\n",
       "      <th></th>\n",
       "      <th>Pclass_1</th>\n",
       "      <th>Pclass_2</th>\n",
       "      <th>Pclass_3</th>\n",
       "      <th>Sex_female</th>\n",
       "      <th>Sex_male</th>\n",
       "      <th>SibSp_0</th>\n",
       "      <th>SibSp_1</th>\n",
       "      <th>SibSp_2</th>\n",
       "      <th>SibSp_3</th>\n",
       "      <th>SibSp_4</th>\n",
       "      <th>...</th>\n",
       "      <th>Parch_0</th>\n",
       "      <th>Parch_1</th>\n",
       "      <th>Parch_2</th>\n",
       "      <th>Parch_3</th>\n",
       "      <th>Parch_4</th>\n",
       "      <th>Parch_5</th>\n",
       "      <th>Parch_6</th>\n",
       "      <th>Embarked_C</th>\n",
       "      <th>Embarked_Q</th>\n",
       "      <th>Embarked_S</th>\n",
       "    </tr>\n",
       "  </thead>\n",
       "  <tbody>\n",
       "    <tr>\n",
       "      <th>0</th>\n",
       "      <td>1.0</td>\n",
       "      <td>0.0</td>\n",
       "      <td>0.0</td>\n",
       "      <td>0.0</td>\n",
       "      <td>1.0</td>\n",
       "      <td>1.0</td>\n",
       "      <td>0.0</td>\n",
       "      <td>0.0</td>\n",
       "      <td>0.0</td>\n",
       "      <td>0.0</td>\n",
       "      <td>...</td>\n",
       "      <td>1.0</td>\n",
       "      <td>0.0</td>\n",
       "      <td>0.0</td>\n",
       "      <td>0.0</td>\n",
       "      <td>0.0</td>\n",
       "      <td>0.0</td>\n",
       "      <td>0.0</td>\n",
       "      <td>0.0</td>\n",
       "      <td>0.0</td>\n",
       "      <td>1.0</td>\n",
       "    </tr>\n",
       "    <tr>\n",
       "      <th>1</th>\n",
       "      <td>1.0</td>\n",
       "      <td>0.0</td>\n",
       "      <td>0.0</td>\n",
       "      <td>0.0</td>\n",
       "      <td>1.0</td>\n",
       "      <td>0.0</td>\n",
       "      <td>1.0</td>\n",
       "      <td>0.0</td>\n",
       "      <td>0.0</td>\n",
       "      <td>0.0</td>\n",
       "      <td>...</td>\n",
       "      <td>1.0</td>\n",
       "      <td>0.0</td>\n",
       "      <td>0.0</td>\n",
       "      <td>0.0</td>\n",
       "      <td>0.0</td>\n",
       "      <td>0.0</td>\n",
       "      <td>0.0</td>\n",
       "      <td>0.0</td>\n",
       "      <td>0.0</td>\n",
       "      <td>1.0</td>\n",
       "    </tr>\n",
       "    <tr>\n",
       "      <th>2</th>\n",
       "      <td>0.0</td>\n",
       "      <td>1.0</td>\n",
       "      <td>0.0</td>\n",
       "      <td>1.0</td>\n",
       "      <td>0.0</td>\n",
       "      <td>0.0</td>\n",
       "      <td>1.0</td>\n",
       "      <td>0.0</td>\n",
       "      <td>0.0</td>\n",
       "      <td>0.0</td>\n",
       "      <td>...</td>\n",
       "      <td>0.0</td>\n",
       "      <td>0.0</td>\n",
       "      <td>1.0</td>\n",
       "      <td>0.0</td>\n",
       "      <td>0.0</td>\n",
       "      <td>0.0</td>\n",
       "      <td>0.0</td>\n",
       "      <td>0.0</td>\n",
       "      <td>0.0</td>\n",
       "      <td>1.0</td>\n",
       "    </tr>\n",
       "    <tr>\n",
       "      <th>3</th>\n",
       "      <td>0.0</td>\n",
       "      <td>0.0</td>\n",
       "      <td>1.0</td>\n",
       "      <td>0.0</td>\n",
       "      <td>1.0</td>\n",
       "      <td>1.0</td>\n",
       "      <td>0.0</td>\n",
       "      <td>0.0</td>\n",
       "      <td>0.0</td>\n",
       "      <td>0.0</td>\n",
       "      <td>...</td>\n",
       "      <td>1.0</td>\n",
       "      <td>0.0</td>\n",
       "      <td>0.0</td>\n",
       "      <td>0.0</td>\n",
       "      <td>0.0</td>\n",
       "      <td>0.0</td>\n",
       "      <td>0.0</td>\n",
       "      <td>0.0</td>\n",
       "      <td>0.0</td>\n",
       "      <td>1.0</td>\n",
       "    </tr>\n",
       "    <tr>\n",
       "      <th>4</th>\n",
       "      <td>0.0</td>\n",
       "      <td>1.0</td>\n",
       "      <td>0.0</td>\n",
       "      <td>0.0</td>\n",
       "      <td>1.0</td>\n",
       "      <td>1.0</td>\n",
       "      <td>0.0</td>\n",
       "      <td>0.0</td>\n",
       "      <td>0.0</td>\n",
       "      <td>0.0</td>\n",
       "      <td>...</td>\n",
       "      <td>1.0</td>\n",
       "      <td>0.0</td>\n",
       "      <td>0.0</td>\n",
       "      <td>0.0</td>\n",
       "      <td>0.0</td>\n",
       "      <td>0.0</td>\n",
       "      <td>0.0</td>\n",
       "      <td>0.0</td>\n",
       "      <td>0.0</td>\n",
       "      <td>1.0</td>\n",
       "    </tr>\n",
       "  </tbody>\n",
       "</table>\n",
       "<p>5 rows × 21 columns</p>\n",
       "</div>"
      ],
      "text/plain": [
       "   Pclass_1  Pclass_2  Pclass_3  Sex_female  Sex_male  SibSp_0  SibSp_1  \\\n",
       "0       1.0       0.0       0.0         0.0       1.0      1.0      0.0   \n",
       "1       1.0       0.0       0.0         0.0       1.0      0.0      1.0   \n",
       "2       0.0       1.0       0.0         1.0       0.0      0.0      1.0   \n",
       "3       0.0       0.0       1.0         0.0       1.0      1.0      0.0   \n",
       "4       0.0       1.0       0.0         0.0       1.0      1.0      0.0   \n",
       "\n",
       "   SibSp_2  SibSp_3  SibSp_4  ...  Parch_0  Parch_1  Parch_2  Parch_3  \\\n",
       "0      0.0      0.0      0.0  ...      1.0      0.0      0.0      0.0   \n",
       "1      0.0      0.0      0.0  ...      1.0      0.0      0.0      0.0   \n",
       "2      0.0      0.0      0.0  ...      0.0      0.0      1.0      0.0   \n",
       "3      0.0      0.0      0.0  ...      1.0      0.0      0.0      0.0   \n",
       "4      0.0      0.0      0.0  ...      1.0      0.0      0.0      0.0   \n",
       "\n",
       "   Parch_4  Parch_5  Parch_6  Embarked_C  Embarked_Q  Embarked_S  \n",
       "0      0.0      0.0      0.0         0.0         0.0         1.0  \n",
       "1      0.0      0.0      0.0         0.0         0.0         1.0  \n",
       "2      0.0      0.0      0.0         0.0         0.0         1.0  \n",
       "3      0.0      0.0      0.0         0.0         0.0         1.0  \n",
       "4      0.0      0.0      0.0         0.0         0.0         1.0  \n",
       "\n",
       "[5 rows x 21 columns]"
      ]
     },
     "execution_count": 53,
     "metadata": {},
     "output_type": "execute_result"
    }
   ],
   "source": [
    "x_train_cat.head()"
   ]
  },
  {
   "cell_type": "code",
   "execution_count": 54,
   "id": "87663e18",
   "metadata": {
    "execution": {
     "iopub.execute_input": "2023-04-09T10:08:11.224982Z",
     "iopub.status.busy": "2023-04-09T10:08:11.224616Z",
     "iopub.status.idle": "2023-04-09T10:08:11.229345Z",
     "shell.execute_reply": "2023-04-09T10:08:11.228290Z"
    },
    "executionInfo": {
     "elapsed": 117,
     "status": "ok",
     "timestamp": 1681033252823,
     "user": {
      "displayName": "Mallikarjun Thripuraboina",
      "userId": "01775111500134944659"
     },
     "user_tz": -330
    },
    "id": "BWE4-wpc8K6z",
    "papermill": {
     "duration": 0.039609,
     "end_time": "2023-04-09T10:08:11.231252",
     "exception": false,
     "start_time": "2023-04-09T10:08:11.191643",
     "status": "completed"
    },
    "tags": []
   },
   "outputs": [],
   "source": [
    "Train = pd.concat([x_train_num, x_train_cat], axis=1)"
   ]
  },
  {
   "cell_type": "code",
   "execution_count": 55,
   "id": "ed27dffc",
   "metadata": {
    "execution": {
     "iopub.execute_input": "2023-04-09T10:08:11.297013Z",
     "iopub.status.busy": "2023-04-09T10:08:11.295690Z",
     "iopub.status.idle": "2023-04-09T10:08:11.302156Z",
     "shell.execute_reply": "2023-04-09T10:08:11.300937Z"
    },
    "executionInfo": {
     "elapsed": 117,
     "status": "ok",
     "timestamp": 1681033252824,
     "user": {
      "displayName": "Mallikarjun Thripuraboina",
      "userId": "01775111500134944659"
     },
     "user_tz": -330
    },
    "id": "Hi7l65SP8dZl",
    "outputId": "1dd6e370-5b8a-448e-87b2-d8be02a78b4f",
    "papermill": {
     "duration": 0.042028,
     "end_time": "2023-04-09T10:08:11.304978",
     "exception": false,
     "start_time": "2023-04-09T10:08:11.262950",
     "status": "completed"
    },
    "tags": []
   },
   "outputs": [
    {
     "data": {
      "text/plain": [
       "(535, 23)"
      ]
     },
     "execution_count": 55,
     "metadata": {},
     "output_type": "execute_result"
    }
   ],
   "source": [
    "Train.shape"
   ]
  },
  {
   "cell_type": "code",
   "execution_count": 56,
   "id": "1d8ec9d7",
   "metadata": {
    "execution": {
     "iopub.execute_input": "2023-04-09T10:08:11.370632Z",
     "iopub.status.busy": "2023-04-09T10:08:11.370259Z",
     "iopub.status.idle": "2023-04-09T10:08:11.376550Z",
     "shell.execute_reply": "2023-04-09T10:08:11.374643Z"
    },
    "executionInfo": {
     "elapsed": 113,
     "status": "ok",
     "timestamp": 1681033252825,
     "user": {
      "displayName": "Mallikarjun Thripuraboina",
      "userId": "01775111500134944659"
     },
     "user_tz": -330
    },
    "id": "koqwkCJ28lNC",
    "papermill": {
     "duration": 0.041347,
     "end_time": "2023-04-09T10:08:11.378421",
     "exception": false,
     "start_time": "2023-04-09T10:08:11.337074",
     "status": "completed"
    },
    "tags": []
   },
   "outputs": [],
   "source": [
    "validation = pd.concat([x_test_num, x_test_cat], axis=1)"
   ]
  },
  {
   "cell_type": "code",
   "execution_count": 57,
   "id": "7e121379",
   "metadata": {
    "execution": {
     "iopub.execute_input": "2023-04-09T10:08:11.444394Z",
     "iopub.status.busy": "2023-04-09T10:08:11.443822Z",
     "iopub.status.idle": "2023-04-09T10:08:11.449492Z",
     "shell.execute_reply": "2023-04-09T10:08:11.448699Z"
    },
    "executionInfo": {
     "elapsed": 114,
     "status": "ok",
     "timestamp": 1681033252826,
     "user": {
      "displayName": "Mallikarjun Thripuraboina",
      "userId": "01775111500134944659"
     },
     "user_tz": -330
    },
    "id": "0rqxOkYG8r3i",
    "outputId": "fab1b2ae-9e8c-4682-8279-21303117b683",
    "papermill": {
     "duration": 0.040975,
     "end_time": "2023-04-09T10:08:11.451268",
     "exception": false,
     "start_time": "2023-04-09T10:08:11.410293",
     "status": "completed"
    },
    "tags": []
   },
   "outputs": [
    {
     "data": {
      "text/plain": [
       "(230, 23)"
      ]
     },
     "execution_count": 57,
     "metadata": {},
     "output_type": "execute_result"
    }
   ],
   "source": [
    "validation.shape"
   ]
  },
  {
   "cell_type": "code",
   "execution_count": 58,
   "id": "1a116259",
   "metadata": {
    "execution": {
     "iopub.execute_input": "2023-04-09T10:08:11.518494Z",
     "iopub.status.busy": "2023-04-09T10:08:11.517831Z",
     "iopub.status.idle": "2023-04-09T10:08:11.524145Z",
     "shell.execute_reply": "2023-04-09T10:08:11.523142Z"
    },
    "executionInfo": {
     "elapsed": 110,
     "status": "ok",
     "timestamp": 1681033252827,
     "user": {
      "displayName": "Mallikarjun Thripuraboina",
      "userId": "01775111500134944659"
     },
     "user_tz": -330
    },
    "id": "pkL6aul_R-eT",
    "papermill": {
     "duration": 0.042498,
     "end_time": "2023-04-09T10:08:11.526257",
     "exception": false,
     "start_time": "2023-04-09T10:08:11.483759",
     "status": "completed"
    },
    "tags": []
   },
   "outputs": [],
   "source": [
    "y_train=y_train.astype('category')\n",
    "y_test= y_test.astype('category')"
   ]
  },
  {
   "cell_type": "code",
   "execution_count": 59,
   "id": "b0d98d30",
   "metadata": {
    "execution": {
     "iopub.execute_input": "2023-04-09T10:08:11.595330Z",
     "iopub.status.busy": "2023-04-09T10:08:11.594643Z",
     "iopub.status.idle": "2023-04-09T10:08:11.599555Z",
     "shell.execute_reply": "2023-04-09T10:08:11.598496Z"
    },
    "executionInfo": {
     "elapsed": 109,
     "status": "ok",
     "timestamp": 1681033252827,
     "user": {
      "displayName": "Mallikarjun Thripuraboina",
      "userId": "01775111500134944659"
     },
     "user_tz": -330
    },
    "id": "pwu8OSl99dxZ",
    "papermill": {
     "duration": 0.041895,
     "end_time": "2023-04-09T10:08:11.601646",
     "exception": false,
     "start_time": "2023-04-09T10:08:11.559751",
     "status": "completed"
    },
    "tags": []
   },
   "outputs": [],
   "source": [
    "from sklearn.linear_model import LogisticRegression"
   ]
  },
  {
   "cell_type": "code",
   "execution_count": 60,
   "id": "f0beb9a1",
   "metadata": {
    "execution": {
     "iopub.execute_input": "2023-04-09T10:08:11.669807Z",
     "iopub.status.busy": "2023-04-09T10:08:11.669162Z",
     "iopub.status.idle": "2023-04-09T10:08:11.673101Z",
     "shell.execute_reply": "2023-04-09T10:08:11.672385Z"
    },
    "executionInfo": {
     "elapsed": 110,
     "status": "ok",
     "timestamp": 1681033252828,
     "user": {
      "displayName": "Mallikarjun Thripuraboina",
      "userId": "01775111500134944659"
     },
     "user_tz": -330
    },
    "id": "Adj5NHLJ9vrh",
    "papermill": {
     "duration": 0.040947,
     "end_time": "2023-04-09T10:08:11.675505",
     "exception": false,
     "start_time": "2023-04-09T10:08:11.634558",
     "status": "completed"
    },
    "tags": []
   },
   "outputs": [],
   "source": [
    "model = LogisticRegression(class_weight='balanced')"
   ]
  },
  {
   "cell_type": "code",
   "execution_count": 61,
   "id": "5b8f0ab8",
   "metadata": {
    "execution": {
     "iopub.execute_input": "2023-04-09T10:08:11.743253Z",
     "iopub.status.busy": "2023-04-09T10:08:11.742582Z",
     "iopub.status.idle": "2023-04-09T10:08:11.774217Z",
     "shell.execute_reply": "2023-04-09T10:08:11.773386Z"
    },
    "executionInfo": {
     "elapsed": 111,
     "status": "ok",
     "timestamp": 1681033252829,
     "user": {
      "displayName": "Mallikarjun Thripuraboina",
      "userId": "01775111500134944659"
     },
     "user_tz": -330
    },
    "id": "0-Ox2KuK9089",
    "outputId": "eed5c27b-94cc-422b-f2ee-dcefc57ce95e",
    "papermill": {
     "duration": 0.06727,
     "end_time": "2023-04-09T10:08:11.776304",
     "exception": false,
     "start_time": "2023-04-09T10:08:11.709034",
     "status": "completed"
    },
    "tags": []
   },
   "outputs": [
    {
     "data": {
      "text/plain": [
       "LogisticRegression(class_weight='balanced')"
      ]
     },
     "execution_count": 61,
     "metadata": {},
     "output_type": "execute_result"
    }
   ],
   "source": [
    "model.fit(Train, y_train)"
   ]
  },
  {
   "cell_type": "code",
   "execution_count": 62,
   "id": "5e99c510",
   "metadata": {
    "execution": {
     "iopub.execute_input": "2023-04-09T10:08:11.862406Z",
     "iopub.status.busy": "2023-04-09T10:08:11.861876Z",
     "iopub.status.idle": "2023-04-09T10:08:11.870084Z",
     "shell.execute_reply": "2023-04-09T10:08:11.869301Z"
    },
    "executionInfo": {
     "elapsed": 109,
     "status": "ok",
     "timestamp": 1681033252829,
     "user": {
      "displayName": "Mallikarjun Thripuraboina",
      "userId": "01775111500134944659"
     },
     "user_tz": -330
    },
    "id": "J3CtNvNL-Arb",
    "papermill": {
     "duration": 0.053826,
     "end_time": "2023-04-09T10:08:11.872210",
     "exception": false,
     "start_time": "2023-04-09T10:08:11.818384",
     "status": "completed"
    },
    "tags": []
   },
   "outputs": [],
   "source": [
    "train_pred = model.predict(Train)"
   ]
  },
  {
   "cell_type": "code",
   "execution_count": 63,
   "id": "09adf943",
   "metadata": {
    "execution": {
     "iopub.execute_input": "2023-04-09T10:08:11.958916Z",
     "iopub.status.busy": "2023-04-09T10:08:11.958518Z",
     "iopub.status.idle": "2023-04-09T10:08:11.965011Z",
     "shell.execute_reply": "2023-04-09T10:08:11.964264Z"
    },
    "executionInfo": {
     "elapsed": 110,
     "status": "ok",
     "timestamp": 1681033252830,
     "user": {
      "displayName": "Mallikarjun Thripuraboina",
      "userId": "01775111500134944659"
     },
     "user_tz": -330
    },
    "id": "1LE60xhf-y6X",
    "papermill": {
     "duration": 0.053312,
     "end_time": "2023-04-09T10:08:11.967903",
     "exception": false,
     "start_time": "2023-04-09T10:08:11.914591",
     "status": "completed"
    },
    "tags": []
   },
   "outputs": [],
   "source": [
    "validation_pred = model.predict(validation)"
   ]
  },
  {
   "cell_type": "code",
   "execution_count": 64,
   "id": "518eca43",
   "metadata": {
    "execution": {
     "iopub.execute_input": "2023-04-09T10:08:12.039725Z",
     "iopub.status.busy": "2023-04-09T10:08:12.039255Z",
     "iopub.status.idle": "2023-04-09T10:08:12.044106Z",
     "shell.execute_reply": "2023-04-09T10:08:12.043191Z"
    },
    "executionInfo": {
     "elapsed": 111,
     "status": "ok",
     "timestamp": 1681033252831,
     "user": {
      "displayName": "Mallikarjun Thripuraboina",
      "userId": "01775111500134944659"
     },
     "user_tz": -330
    },
    "id": "aODjXRc9_Cf1",
    "papermill": {
     "duration": 0.041229,
     "end_time": "2023-04-09T10:08:12.046109",
     "exception": false,
     "start_time": "2023-04-09T10:08:12.004880",
     "status": "completed"
    },
    "tags": []
   },
   "outputs": [],
   "source": [
    "from sklearn.metrics import confusion_matrix , classification_report ,f1_score ,recall_score , precision_score ,accuracy_score\n"
   ]
  },
  {
   "cell_type": "code",
   "execution_count": 65,
   "id": "5d02cf7e",
   "metadata": {
    "execution": {
     "iopub.execute_input": "2023-04-09T10:08:12.112001Z",
     "iopub.status.busy": "2023-04-09T10:08:12.111394Z",
     "iopub.status.idle": "2023-04-09T10:08:12.120782Z",
     "shell.execute_reply": "2023-04-09T10:08:12.119478Z"
    },
    "executionInfo": {
     "elapsed": 111,
     "status": "ok",
     "timestamp": 1681033252832,
     "user": {
      "displayName": "Mallikarjun Thripuraboina",
      "userId": "01775111500134944659"
     },
     "user_tz": -330
    },
    "id": "jYWnqHGF_S3c",
    "outputId": "74302bc2-da03-4e37-a01d-77f34fc316a9",
    "papermill": {
     "duration": 0.044171,
     "end_time": "2023-04-09T10:08:12.122892",
     "exception": false,
     "start_time": "2023-04-09T10:08:12.078721",
     "status": "completed"
    },
    "tags": []
   },
   "outputs": [
    {
     "name": "stdout",
     "output_type": "stream",
     "text": [
      "[[287  65]\n",
      " [ 45 138]]\n"
     ]
    }
   ],
   "source": [
    "print(confusion_matrix(y_train, train_pred))"
   ]
  },
  {
   "cell_type": "code",
   "execution_count": 66,
   "id": "c83d0a12",
   "metadata": {
    "execution": {
     "iopub.execute_input": "2023-04-09T10:08:12.188686Z",
     "iopub.status.busy": "2023-04-09T10:08:12.188312Z",
     "iopub.status.idle": "2023-04-09T10:08:12.201209Z",
     "shell.execute_reply": "2023-04-09T10:08:12.199570Z"
    },
    "executionInfo": {
     "elapsed": 108,
     "status": "ok",
     "timestamp": 1681033252833,
     "user": {
      "displayName": "Mallikarjun Thripuraboina",
      "userId": "01775111500134944659"
     },
     "user_tz": -330
    },
    "id": "0rM9cFu6_xlU",
    "outputId": "1f77975d-dd1b-43b3-9fe2-4881a3ff6839",
    "papermill": {
     "duration": 0.048832,
     "end_time": "2023-04-09T10:08:12.203455",
     "exception": false,
     "start_time": "2023-04-09T10:08:12.154623",
     "status": "completed"
    },
    "tags": []
   },
   "outputs": [
    {
     "name": "stdout",
     "output_type": "stream",
     "text": [
      "              precision    recall  f1-score   support\n",
      "\n",
      "           0       0.86      0.82      0.84       352\n",
      "           1       0.68      0.75      0.72       183\n",
      "\n",
      "    accuracy                           0.79       535\n",
      "   macro avg       0.77      0.78      0.78       535\n",
      "weighted avg       0.80      0.79      0.80       535\n",
      "\n"
     ]
    }
   ],
   "source": [
    "print(classification_report(y_train , train_pred))"
   ]
  },
  {
   "cell_type": "code",
   "execution_count": null,
   "id": "eb1ecd29",
   "metadata": {
    "executionInfo": {
     "elapsed": 104,
     "status": "ok",
     "timestamp": 1681033252834,
     "user": {
      "displayName": "Mallikarjun Thripuraboina",
      "userId": "01775111500134944659"
     },
     "user_tz": -330
    },
    "id": "yDHWA7-ifpVF",
    "papermill": {
     "duration": 0.032606,
     "end_time": "2023-04-09T10:08:12.269520",
     "exception": false,
     "start_time": "2023-04-09T10:08:12.236914",
     "status": "completed"
    },
    "tags": []
   },
   "outputs": [],
   "source": []
  },
  {
   "cell_type": "code",
   "execution_count": 67,
   "id": "64ea8695",
   "metadata": {
    "execution": {
     "iopub.execute_input": "2023-04-09T10:08:12.336207Z",
     "iopub.status.busy": "2023-04-09T10:08:12.335830Z",
     "iopub.status.idle": "2023-04-09T10:08:12.347457Z",
     "shell.execute_reply": "2023-04-09T10:08:12.346201Z"
    },
    "executionInfo": {
     "elapsed": 763,
     "status": "ok",
     "timestamp": 1681033253493,
     "user": {
      "displayName": "Mallikarjun Thripuraboina",
      "userId": "01775111500134944659"
     },
     "user_tz": -330
    },
    "id": "nkkUEsXzfsVp",
    "outputId": "f7e9f56b-33a1-440a-cb58-2ed6b075d951",
    "papermill": {
     "duration": 0.047807,
     "end_time": "2023-04-09T10:08:12.349956",
     "exception": false,
     "start_time": "2023-04-09T10:08:12.302149",
     "status": "completed"
    },
    "tags": []
   },
   "outputs": [
    {
     "name": "stdout",
     "output_type": "stream",
     "text": [
      "Recall : 0.7540983606557377\n",
      "Precision : 0.6798029556650246\n",
      "f1_score : 0.7150259067357513\n",
      "accuracy_score : 0.794392523364486\n"
     ]
    }
   ],
   "source": [
    "print('Recall :' ,recall_score(y_train , train_pred))\n",
    "print('Precision :' ,precision_score(y_train , train_pred))\n",
    "print('f1_score :' ,f1_score(y_train , train_pred))\n",
    "print('accuracy_score :' ,accuracy_score(y_train , train_pred))"
   ]
  },
  {
   "cell_type": "code",
   "execution_count": 68,
   "id": "1464a49d",
   "metadata": {
    "execution": {
     "iopub.execute_input": "2023-04-09T10:08:12.416679Z",
     "iopub.status.busy": "2023-04-09T10:08:12.416051Z",
     "iopub.status.idle": "2023-04-09T10:08:12.422390Z",
     "shell.execute_reply": "2023-04-09T10:08:12.421031Z"
    },
    "executionInfo": {
     "elapsed": 204,
     "status": "ok",
     "timestamp": 1681033253495,
     "user": {
      "displayName": "Mallikarjun Thripuraboina",
      "userId": "01775111500134944659"
     },
     "user_tz": -330
    },
    "id": "YMua1vDX_27X",
    "outputId": "81d240e4-dd89-40b2-e625-ff7c654f4e6e",
    "papermill": {
     "duration": 0.042831,
     "end_time": "2023-04-09T10:08:12.424730",
     "exception": false,
     "start_time": "2023-04-09T10:08:12.381899",
     "status": "completed"
    },
    "tags": []
   },
   "outputs": [
    {
     "name": "stdout",
     "output_type": "stream",
     "text": [
      "[[124  27]\n",
      " [ 19  60]]\n"
     ]
    }
   ],
   "source": [
    "print(confusion_matrix(y_test, validation_pred))"
   ]
  },
  {
   "cell_type": "code",
   "execution_count": 69,
   "id": "619f1f60",
   "metadata": {
    "execution": {
     "iopub.execute_input": "2023-04-09T10:08:12.493429Z",
     "iopub.status.busy": "2023-04-09T10:08:12.492234Z",
     "iopub.status.idle": "2023-04-09T10:08:12.501909Z",
     "shell.execute_reply": "2023-04-09T10:08:12.500588Z"
    },
    "executionInfo": {
     "elapsed": 197,
     "status": "ok",
     "timestamp": 1681033253495,
     "user": {
      "displayName": "Mallikarjun Thripuraboina",
      "userId": "01775111500134944659"
     },
     "user_tz": -330
    },
    "id": "7uhNzQftAO62",
    "outputId": "0ae8fc32-dd58-435f-c70f-3d6484f6502c",
    "papermill": {
     "duration": 0.047196,
     "end_time": "2023-04-09T10:08:12.503893",
     "exception": false,
     "start_time": "2023-04-09T10:08:12.456697",
     "status": "completed"
    },
    "tags": []
   },
   "outputs": [
    {
     "name": "stdout",
     "output_type": "stream",
     "text": [
      "              precision    recall  f1-score   support\n",
      "\n",
      "           0       0.87      0.82      0.84       151\n",
      "           1       0.69      0.76      0.72        79\n",
      "\n",
      "    accuracy                           0.80       230\n",
      "   macro avg       0.78      0.79      0.78       230\n",
      "weighted avg       0.81      0.80      0.80       230\n",
      "\n"
     ]
    }
   ],
   "source": [
    "print(classification_report(y_test, validation_pred))"
   ]
  },
  {
   "cell_type": "code",
   "execution_count": 70,
   "id": "129055ec",
   "metadata": {
    "execution": {
     "iopub.execute_input": "2023-04-09T10:08:12.567674Z",
     "iopub.status.busy": "2023-04-09T10:08:12.567355Z",
     "iopub.status.idle": "2023-04-09T10:08:12.579373Z",
     "shell.execute_reply": "2023-04-09T10:08:12.578172Z"
    },
    "executionInfo": {
     "elapsed": 189,
     "status": "ok",
     "timestamp": 1681033253496,
     "user": {
      "displayName": "Mallikarjun Thripuraboina",
      "userId": "01775111500134944659"
     },
     "user_tz": -330
    },
    "id": "IqxbNo_MgTz2",
    "outputId": "ccb84b62-a983-4588-d0b4-88617b36dd83",
    "papermill": {
     "duration": 0.045895,
     "end_time": "2023-04-09T10:08:12.581181",
     "exception": false,
     "start_time": "2023-04-09T10:08:12.535286",
     "status": "completed"
    },
    "tags": []
   },
   "outputs": [
    {
     "name": "stdout",
     "output_type": "stream",
     "text": [
      "Recall : 0.759493670886076\n",
      "Precision : 0.6896551724137931\n",
      "f1_score : 0.7228915662650602\n",
      "accuracy_score : 0.8\n"
     ]
    }
   ],
   "source": [
    "print('Recall :' ,recall_score(y_test , validation_pred))\n",
    "print('Precision :' ,precision_score(y_test , validation_pred))\n",
    "print('f1_score :' ,f1_score(y_test , validation_pred))\n",
    "print('accuracy_score :' ,accuracy_score(y_test , validation_pred))"
   ]
  },
  {
   "cell_type": "code",
   "execution_count": 71,
   "id": "739afe48",
   "metadata": {
    "execution": {
     "iopub.execute_input": "2023-04-09T10:08:12.651724Z",
     "iopub.status.busy": "2023-04-09T10:08:12.651356Z",
     "iopub.status.idle": "2023-04-09T10:08:12.794730Z",
     "shell.execute_reply": "2023-04-09T10:08:12.793949Z"
    },
    "executionInfo": {
     "elapsed": 185,
     "status": "ok",
     "timestamp": 1681033253498,
     "user": {
      "displayName": "Mallikarjun Thripuraboina",
      "userId": "01775111500134944659"
     },
     "user_tz": -330
    },
    "id": "VFmzgvD3XCNd",
    "papermill": {
     "duration": 0.180407,
     "end_time": "2023-04-09T10:08:12.797059",
     "exception": false,
     "start_time": "2023-04-09T10:08:12.616652",
     "status": "completed"
    },
    "tags": []
   },
   "outputs": [],
   "source": [
    "from sklearn.ensemble import GradientBoostingClassifier"
   ]
  },
  {
   "cell_type": "code",
   "execution_count": 72,
   "id": "4bf04473",
   "metadata": {
    "execution": {
     "iopub.execute_input": "2023-04-09T10:08:12.864096Z",
     "iopub.status.busy": "2023-04-09T10:08:12.863677Z",
     "iopub.status.idle": "2023-04-09T10:08:12.953410Z",
     "shell.execute_reply": "2023-04-09T10:08:12.952510Z"
    },
    "executionInfo": {
     "elapsed": 185,
     "status": "ok",
     "timestamp": 1681033253499,
     "user": {
      "displayName": "Mallikarjun Thripuraboina",
      "userId": "01775111500134944659"
     },
     "user_tz": -330
    },
    "id": "wN15bNfWgTk-",
    "papermill": {
     "duration": 0.12615,
     "end_time": "2023-04-09T10:08:12.955753",
     "exception": false,
     "start_time": "2023-04-09T10:08:12.829603",
     "status": "completed"
    },
    "tags": []
   },
   "outputs": [],
   "source": [
    "gbk = GradientBoostingClassifier()\n",
    "gbk.fit(Train, y_train)\n",
    "train_pred_gbk = gbk.predict(Train)\n",
    "validation_pred_gbk = gbk.predict(validation)"
   ]
  },
  {
   "cell_type": "code",
   "execution_count": 73,
   "id": "2f6cec60",
   "metadata": {
    "execution": {
     "iopub.execute_input": "2023-04-09T10:08:13.021839Z",
     "iopub.status.busy": "2023-04-09T10:08:13.021178Z",
     "iopub.status.idle": "2023-04-09T10:08:13.027562Z",
     "shell.execute_reply": "2023-04-09T10:08:13.026683Z"
    },
    "executionInfo": {
     "elapsed": 186,
     "status": "ok",
     "timestamp": 1681033253500,
     "user": {
      "displayName": "Mallikarjun Thripuraboina",
      "userId": "01775111500134944659"
     },
     "user_tz": -330
    },
    "id": "6Mlv__CHW-oN",
    "outputId": "f5a1fa90-c19f-4c0f-d904-5507de874f16",
    "papermill": {
     "duration": 0.041471,
     "end_time": "2023-04-09T10:08:13.029517",
     "exception": false,
     "start_time": "2023-04-09T10:08:12.988046",
     "status": "completed"
    },
    "tags": []
   },
   "outputs": [
    {
     "name": "stdout",
     "output_type": "stream",
     "text": [
      "[[340  12]\n",
      " [ 38 145]]\n"
     ]
    }
   ],
   "source": [
    "print(confusion_matrix(y_train, train_pred_gbk))"
   ]
  },
  {
   "cell_type": "code",
   "execution_count": 74,
   "id": "71dacaf3",
   "metadata": {
    "execution": {
     "iopub.execute_input": "2023-04-09T10:08:13.095974Z",
     "iopub.status.busy": "2023-04-09T10:08:13.095382Z",
     "iopub.status.idle": "2023-04-09T10:08:13.103528Z",
     "shell.execute_reply": "2023-04-09T10:08:13.102830Z"
    },
    "executionInfo": {
     "elapsed": 178,
     "status": "ok",
     "timestamp": 1681033253501,
     "user": {
      "displayName": "Mallikarjun Thripuraboina",
      "userId": "01775111500134944659"
     },
     "user_tz": -330
    },
    "id": "MdA7fYmmXsrj",
    "outputId": "38a3fda1-0005-4f35-a08a-841caf050403",
    "papermill": {
     "duration": 0.044028,
     "end_time": "2023-04-09T10:08:13.105703",
     "exception": false,
     "start_time": "2023-04-09T10:08:13.061675",
     "status": "completed"
    },
    "tags": []
   },
   "outputs": [
    {
     "name": "stdout",
     "output_type": "stream",
     "text": [
      "              precision    recall  f1-score   support\n",
      "\n",
      "           0       0.90      0.97      0.93       352\n",
      "           1       0.92      0.79      0.85       183\n",
      "\n",
      "    accuracy                           0.91       535\n",
      "   macro avg       0.91      0.88      0.89       535\n",
      "weighted avg       0.91      0.91      0.90       535\n",
      "\n"
     ]
    }
   ],
   "source": [
    "print(classification_report(y_train , train_pred_gbk))"
   ]
  },
  {
   "cell_type": "code",
   "execution_count": 75,
   "id": "7976f912",
   "metadata": {
    "execution": {
     "iopub.execute_input": "2023-04-09T10:08:13.173823Z",
     "iopub.status.busy": "2023-04-09T10:08:13.172766Z",
     "iopub.status.idle": "2023-04-09T10:08:13.183202Z",
     "shell.execute_reply": "2023-04-09T10:08:13.182179Z"
    },
    "executionInfo": {
     "elapsed": 168,
     "status": "ok",
     "timestamp": 1681033253501,
     "user": {
      "displayName": "Mallikarjun Thripuraboina",
      "userId": "01775111500134944659"
     },
     "user_tz": -330
    },
    "id": "naIo_G7cXspI",
    "outputId": "2f61b798-e019-4f5c-97be-a2ec4c2c7263",
    "papermill": {
     "duration": 0.046849,
     "end_time": "2023-04-09T10:08:13.185750",
     "exception": false,
     "start_time": "2023-04-09T10:08:13.138901",
     "status": "completed"
    },
    "tags": []
   },
   "outputs": [
    {
     "name": "stdout",
     "output_type": "stream",
     "text": [
      "Recall : 0.7923497267759563\n",
      "Precision : 0.9235668789808917\n",
      "f1_score : 0.8529411764705883\n",
      "accuracy_score : 0.9065420560747663\n"
     ]
    }
   ],
   "source": [
    "print('Recall :' ,recall_score(y_train , train_pred_gbk))\n",
    "print('Precision :' ,precision_score(y_train , train_pred_gbk))\n",
    "print('f1_score :' ,f1_score(y_train , train_pred_gbk))\n",
    "print('accuracy_score :' ,accuracy_score(y_train , train_pred_gbk))"
   ]
  },
  {
   "cell_type": "code",
   "execution_count": 76,
   "id": "3bb8e48b",
   "metadata": {
    "execution": {
     "iopub.execute_input": "2023-04-09T10:08:13.254762Z",
     "iopub.status.busy": "2023-04-09T10:08:13.254023Z",
     "iopub.status.idle": "2023-04-09T10:08:13.261286Z",
     "shell.execute_reply": "2023-04-09T10:08:13.260354Z"
    },
    "executionInfo": {
     "elapsed": 162,
     "status": "ok",
     "timestamp": 1681033253502,
     "user": {
      "displayName": "Mallikarjun Thripuraboina",
      "userId": "01775111500134944659"
     },
     "user_tz": -330
    },
    "id": "8o1Xd-GKXsme",
    "outputId": "b8d60aa2-699b-4c9c-a250-56158304ff02",
    "papermill": {
     "duration": 0.043403,
     "end_time": "2023-04-09T10:08:13.263411",
     "exception": false,
     "start_time": "2023-04-09T10:08:13.220008",
     "status": "completed"
    },
    "tags": []
   },
   "outputs": [
    {
     "name": "stdout",
     "output_type": "stream",
     "text": [
      "[[135  16]\n",
      " [ 19  60]]\n"
     ]
    }
   ],
   "source": [
    "print(confusion_matrix(y_test, validation_pred_gbk))"
   ]
  },
  {
   "cell_type": "code",
   "execution_count": 77,
   "id": "4161a250",
   "metadata": {
    "execution": {
     "iopub.execute_input": "2023-04-09T10:08:13.329898Z",
     "iopub.status.busy": "2023-04-09T10:08:13.328747Z",
     "iopub.status.idle": "2023-04-09T10:08:13.339355Z",
     "shell.execute_reply": "2023-04-09T10:08:13.338375Z"
    },
    "executionInfo": {
     "elapsed": 153,
     "status": "ok",
     "timestamp": 1681033253503,
     "user": {
      "displayName": "Mallikarjun Thripuraboina",
      "userId": "01775111500134944659"
     },
     "user_tz": -330
    },
    "id": "M8X0GwQwXsjI",
    "outputId": "14a46409-c4ed-4ef2-8aff-b72d04d7fc7d",
    "papermill": {
     "duration": 0.045852,
     "end_time": "2023-04-09T10:08:13.341409",
     "exception": false,
     "start_time": "2023-04-09T10:08:13.295557",
     "status": "completed"
    },
    "tags": []
   },
   "outputs": [
    {
     "name": "stdout",
     "output_type": "stream",
     "text": [
      "              precision    recall  f1-score   support\n",
      "\n",
      "           0       0.88      0.89      0.89       151\n",
      "           1       0.79      0.76      0.77        79\n",
      "\n",
      "    accuracy                           0.85       230\n",
      "   macro avg       0.83      0.83      0.83       230\n",
      "weighted avg       0.85      0.85      0.85       230\n",
      "\n"
     ]
    }
   ],
   "source": [
    "print(classification_report(y_test, validation_pred_gbk))"
   ]
  },
  {
   "cell_type": "code",
   "execution_count": 78,
   "id": "c9af765a",
   "metadata": {
    "execution": {
     "iopub.execute_input": "2023-04-09T10:08:13.408785Z",
     "iopub.status.busy": "2023-04-09T10:08:13.408408Z",
     "iopub.status.idle": "2023-04-09T10:08:13.421261Z",
     "shell.execute_reply": "2023-04-09T10:08:13.420051Z"
    },
    "executionInfo": {
     "elapsed": 147,
     "status": "ok",
     "timestamp": 1681033253504,
     "user": {
      "displayName": "Mallikarjun Thripuraboina",
      "userId": "01775111500134944659"
     },
     "user_tz": -330
    },
    "id": "CRjGRywdXsgD",
    "outputId": "3252fc2d-a604-4b82-f78c-ad2db16897bd",
    "papermill": {
     "duration": 0.048476,
     "end_time": "2023-04-09T10:08:13.423171",
     "exception": false,
     "start_time": "2023-04-09T10:08:13.374695",
     "status": "completed"
    },
    "tags": []
   },
   "outputs": [
    {
     "name": "stdout",
     "output_type": "stream",
     "text": [
      "Recall : 0.759493670886076\n",
      "Precision : 0.7894736842105263\n",
      "f1_score : 0.7741935483870968\n",
      "accuracy_score : 0.8478260869565217\n"
     ]
    }
   ],
   "source": [
    "print('Recall :' ,recall_score(y_test , validation_pred_gbk))\n",
    "print('Precision :' ,precision_score(y_test , validation_pred_gbk))\n",
    "print('f1_score :' ,f1_score(y_test , validation_pred_gbk))\n",
    "print('accuracy_score :' ,accuracy_score(y_test , validation_pred_gbk))"
   ]
  },
  {
   "cell_type": "code",
   "execution_count": 79,
   "id": "9a340d7a",
   "metadata": {
    "execution": {
     "iopub.execute_input": "2023-04-09T10:08:13.491959Z",
     "iopub.status.busy": "2023-04-09T10:08:13.490764Z",
     "iopub.status.idle": "2023-04-09T10:08:13.504696Z",
     "shell.execute_reply": "2023-04-09T10:08:13.503276Z"
    },
    "executionInfo": {
     "elapsed": 144,
     "status": "ok",
     "timestamp": 1681033253511,
     "user": {
      "displayName": "Mallikarjun Thripuraboina",
      "userId": "01775111500134944659"
     },
     "user_tz": -330
    },
    "id": "00USDIgpuPGp",
    "papermill": {
     "duration": 0.051536,
     "end_time": "2023-04-09T10:08:13.507523",
     "exception": false,
     "start_time": "2023-04-09T10:08:13.455987",
     "status": "completed"
    },
    "tags": []
   },
   "outputs": [],
   "source": [
    "TEST= pd.read_csv('/kaggle/input/titanic/test.csv',na_values=['?','#',' '])"
   ]
  },
  {
   "cell_type": "code",
   "execution_count": 80,
   "id": "47076d3a",
   "metadata": {
    "execution": {
     "iopub.execute_input": "2023-04-09T10:08:13.576275Z",
     "iopub.status.busy": "2023-04-09T10:08:13.575878Z",
     "iopub.status.idle": "2023-04-09T10:08:13.590716Z",
     "shell.execute_reply": "2023-04-09T10:08:13.589666Z"
    },
    "executionInfo": {
     "elapsed": 145,
     "status": "ok",
     "timestamp": 1681033253512,
     "user": {
      "displayName": "Mallikarjun Thripuraboina",
      "userId": "01775111500134944659"
     },
     "user_tz": -330
    },
    "id": "nDyrPDe1Byay",
    "outputId": "80e0909d-3757-4a33-a6a9-2609990496ed",
    "papermill": {
     "duration": 0.05177,
     "end_time": "2023-04-09T10:08:13.593030",
     "exception": false,
     "start_time": "2023-04-09T10:08:13.541260",
     "status": "completed"
    },
    "tags": []
   },
   "outputs": [
    {
     "data": {
      "text/html": [
       "<div>\n",
       "<style scoped>\n",
       "    .dataframe tbody tr th:only-of-type {\n",
       "        vertical-align: middle;\n",
       "    }\n",
       "\n",
       "    .dataframe tbody tr th {\n",
       "        vertical-align: top;\n",
       "    }\n",
       "\n",
       "    .dataframe thead th {\n",
       "        text-align: right;\n",
       "    }\n",
       "</style>\n",
       "<table border=\"1\" class=\"dataframe\">\n",
       "  <thead>\n",
       "    <tr style=\"text-align: right;\">\n",
       "      <th></th>\n",
       "      <th>PassengerId</th>\n",
       "      <th>Pclass</th>\n",
       "      <th>Name</th>\n",
       "      <th>Sex</th>\n",
       "      <th>Age</th>\n",
       "      <th>SibSp</th>\n",
       "      <th>Parch</th>\n",
       "      <th>Ticket</th>\n",
       "      <th>Fare</th>\n",
       "      <th>Cabin</th>\n",
       "      <th>Embarked</th>\n",
       "    </tr>\n",
       "  </thead>\n",
       "  <tbody>\n",
       "    <tr>\n",
       "      <th>0</th>\n",
       "      <td>892</td>\n",
       "      <td>3</td>\n",
       "      <td>Kelly, Mr. James</td>\n",
       "      <td>male</td>\n",
       "      <td>34.5</td>\n",
       "      <td>0</td>\n",
       "      <td>0</td>\n",
       "      <td>330911</td>\n",
       "      <td>7.8292</td>\n",
       "      <td>NaN</td>\n",
       "      <td>Q</td>\n",
       "    </tr>\n",
       "    <tr>\n",
       "      <th>1</th>\n",
       "      <td>893</td>\n",
       "      <td>3</td>\n",
       "      <td>Wilkes, Mrs. James (Ellen Needs)</td>\n",
       "      <td>female</td>\n",
       "      <td>47.0</td>\n",
       "      <td>1</td>\n",
       "      <td>0</td>\n",
       "      <td>363272</td>\n",
       "      <td>7.0000</td>\n",
       "      <td>NaN</td>\n",
       "      <td>S</td>\n",
       "    </tr>\n",
       "    <tr>\n",
       "      <th>2</th>\n",
       "      <td>894</td>\n",
       "      <td>2</td>\n",
       "      <td>Myles, Mr. Thomas Francis</td>\n",
       "      <td>male</td>\n",
       "      <td>62.0</td>\n",
       "      <td>0</td>\n",
       "      <td>0</td>\n",
       "      <td>240276</td>\n",
       "      <td>9.6875</td>\n",
       "      <td>NaN</td>\n",
       "      <td>Q</td>\n",
       "    </tr>\n",
       "    <tr>\n",
       "      <th>3</th>\n",
       "      <td>895</td>\n",
       "      <td>3</td>\n",
       "      <td>Wirz, Mr. Albert</td>\n",
       "      <td>male</td>\n",
       "      <td>27.0</td>\n",
       "      <td>0</td>\n",
       "      <td>0</td>\n",
       "      <td>315154</td>\n",
       "      <td>8.6625</td>\n",
       "      <td>NaN</td>\n",
       "      <td>S</td>\n",
       "    </tr>\n",
       "    <tr>\n",
       "      <th>4</th>\n",
       "      <td>896</td>\n",
       "      <td>3</td>\n",
       "      <td>Hirvonen, Mrs. Alexander (Helga E Lindqvist)</td>\n",
       "      <td>female</td>\n",
       "      <td>22.0</td>\n",
       "      <td>1</td>\n",
       "      <td>1</td>\n",
       "      <td>3101298</td>\n",
       "      <td>12.2875</td>\n",
       "      <td>NaN</td>\n",
       "      <td>S</td>\n",
       "    </tr>\n",
       "  </tbody>\n",
       "</table>\n",
       "</div>"
      ],
      "text/plain": [
       "   PassengerId  Pclass                                          Name     Sex  \\\n",
       "0          892       3                              Kelly, Mr. James    male   \n",
       "1          893       3              Wilkes, Mrs. James (Ellen Needs)  female   \n",
       "2          894       2                     Myles, Mr. Thomas Francis    male   \n",
       "3          895       3                              Wirz, Mr. Albert    male   \n",
       "4          896       3  Hirvonen, Mrs. Alexander (Helga E Lindqvist)  female   \n",
       "\n",
       "    Age  SibSp  Parch   Ticket     Fare Cabin Embarked  \n",
       "0  34.5      0      0   330911   7.8292   NaN        Q  \n",
       "1  47.0      1      0   363272   7.0000   NaN        S  \n",
       "2  62.0      0      0   240276   9.6875   NaN        Q  \n",
       "3  27.0      0      0   315154   8.6625   NaN        S  \n",
       "4  22.0      1      1  3101298  12.2875   NaN        S  "
      ]
     },
     "execution_count": 80,
     "metadata": {},
     "output_type": "execute_result"
    }
   ],
   "source": [
    "TEST.head()"
   ]
  },
  {
   "cell_type": "code",
   "execution_count": 81,
   "id": "806e4fc4",
   "metadata": {
    "execution": {
     "iopub.execute_input": "2023-04-09T10:08:13.662894Z",
     "iopub.status.busy": "2023-04-09T10:08:13.662471Z",
     "iopub.status.idle": "2023-04-09T10:08:13.674727Z",
     "shell.execute_reply": "2023-04-09T10:08:13.673587Z"
    },
    "executionInfo": {
     "elapsed": 144,
     "status": "ok",
     "timestamp": 1681033253513,
     "user": {
      "displayName": "Mallikarjun Thripuraboina",
      "userId": "01775111500134944659"
     },
     "user_tz": -330
    },
    "id": "BV3wMAqQzdnG",
    "papermill": {
     "duration": 0.049953,
     "end_time": "2023-04-09T10:08:13.676891",
     "exception": false,
     "start_time": "2023-04-09T10:08:13.626938",
     "status": "completed"
    },
    "tags": []
   },
   "outputs": [],
   "source": [
    "TEST[cat] = TEST[cat].astype('category')"
   ]
  },
  {
   "cell_type": "code",
   "execution_count": 82,
   "id": "511c5a6c",
   "metadata": {
    "execution": {
     "iopub.execute_input": "2023-04-09T10:08:13.745761Z",
     "iopub.status.busy": "2023-04-09T10:08:13.745388Z",
     "iopub.status.idle": "2023-04-09T10:08:13.751548Z",
     "shell.execute_reply": "2023-04-09T10:08:13.750166Z"
    },
    "executionInfo": {
     "elapsed": 144,
     "status": "ok",
     "timestamp": 1681033253514,
     "user": {
      "displayName": "Mallikarjun Thripuraboina",
      "userId": "01775111500134944659"
     },
     "user_tz": -330
    },
    "id": "5Z7dbIc24DJI",
    "papermill": {
     "duration": 0.043523,
     "end_time": "2023-04-09T10:08:13.754269",
     "exception": false,
     "start_time": "2023-04-09T10:08:13.710746",
     "status": "completed"
    },
    "tags": []
   },
   "outputs": [],
   "source": [
    "TEST_num = TEST[num] # or x_train_num = x_train[num]\n",
    "\n",
    "TEST_cat =TEST[cat]"
   ]
  },
  {
   "cell_type": "code",
   "execution_count": 83,
   "id": "465eb60c",
   "metadata": {
    "execution": {
     "iopub.execute_input": "2023-04-09T10:08:13.824063Z",
     "iopub.status.busy": "2023-04-09T10:08:13.823694Z",
     "iopub.status.idle": "2023-04-09T10:08:13.830233Z",
     "shell.execute_reply": "2023-04-09T10:08:13.828983Z"
    },
    "executionInfo": {
     "elapsed": 145,
     "status": "ok",
     "timestamp": 1681033253515,
     "user": {
      "displayName": "Mallikarjun Thripuraboina",
      "userId": "01775111500134944659"
     },
     "user_tz": -330
    },
    "id": "gNYXRyvfznNi",
    "papermill": {
     "duration": 0.04508,
     "end_time": "2023-04-09T10:08:13.832821",
     "exception": false,
     "start_time": "2023-04-09T10:08:13.787741",
     "status": "completed"
    },
    "tags": []
   },
   "outputs": [],
   "source": [
    "TEST_num = pd.DataFrame(num_imputer.transform(TEST_num), columns=TEST_num.columns)"
   ]
  },
  {
   "cell_type": "code",
   "execution_count": 84,
   "id": "b220d8cb",
   "metadata": {
    "execution": {
     "iopub.execute_input": "2023-04-09T10:08:13.901342Z",
     "iopub.status.busy": "2023-04-09T10:08:13.900950Z",
     "iopub.status.idle": "2023-04-09T10:08:13.910708Z",
     "shell.execute_reply": "2023-04-09T10:08:13.909613Z"
    },
    "executionInfo": {
     "elapsed": 146,
     "status": "ok",
     "timestamp": 1681033253516,
     "user": {
      "displayName": "Mallikarjun Thripuraboina",
      "userId": "01775111500134944659"
     },
     "user_tz": -330
    },
    "id": "HVjp0y2d0Bfl",
    "papermill": {
     "duration": 0.047398,
     "end_time": "2023-04-09T10:08:13.913560",
     "exception": false,
     "start_time": "2023-04-09T10:08:13.866162",
     "status": "completed"
    },
    "tags": []
   },
   "outputs": [],
   "source": [
    "TEST_cat = pd.DataFrame(cat_imputer.transform(TEST_cat), columns=TEST_cat.columns)"
   ]
  },
  {
   "cell_type": "code",
   "execution_count": 85,
   "id": "b2fe38b0",
   "metadata": {
    "execution": {
     "iopub.execute_input": "2023-04-09T10:08:13.981155Z",
     "iopub.status.busy": "2023-04-09T10:08:13.980591Z",
     "iopub.status.idle": "2023-04-09T10:08:13.987710Z",
     "shell.execute_reply": "2023-04-09T10:08:13.986751Z"
    },
    "executionInfo": {
     "elapsed": 141,
     "status": "ok",
     "timestamp": 1681033253517,
     "user": {
      "displayName": "Mallikarjun Thripuraboina",
      "userId": "01775111500134944659"
     },
     "user_tz": -330
    },
    "id": "kqstLtbo0XHr",
    "papermill": {
     "duration": 0.042737,
     "end_time": "2023-04-09T10:08:13.989576",
     "exception": false,
     "start_time": "2023-04-09T10:08:13.946839",
     "status": "completed"
    },
    "tags": []
   },
   "outputs": [],
   "source": [
    "TEST_num =  pd.DataFrame(std.transform(TEST_num), columns=TEST_num.columns)"
   ]
  },
  {
   "cell_type": "code",
   "execution_count": 86,
   "id": "d741b0a1",
   "metadata": {
    "execution": {
     "iopub.execute_input": "2023-04-09T10:08:14.056484Z",
     "iopub.status.busy": "2023-04-09T10:08:14.056114Z",
     "iopub.status.idle": "2023-04-09T10:08:14.064891Z",
     "shell.execute_reply": "2023-04-09T10:08:14.063792Z"
    },
    "executionInfo": {
     "elapsed": 140,
     "status": "ok",
     "timestamp": 1681033253517,
     "user": {
      "displayName": "Mallikarjun Thripuraboina",
      "userId": "01775111500134944659"
     },
     "user_tz": -330
    },
    "id": "elGwVVe302zG",
    "papermill": {
     "duration": 0.044913,
     "end_time": "2023-04-09T10:08:14.067192",
     "exception": false,
     "start_time": "2023-04-09T10:08:14.022279",
     "status": "completed"
    },
    "tags": []
   },
   "outputs": [],
   "source": [
    "TEST_cat = pd.DataFrame(ohe.transform(TEST_cat).todense(), columns=ohe.get_feature_names_out())"
   ]
  },
  {
   "cell_type": "code",
   "execution_count": 87,
   "id": "b1d8ac09",
   "metadata": {
    "execution": {
     "iopub.execute_input": "2023-04-09T10:08:14.136990Z",
     "iopub.status.busy": "2023-04-09T10:08:14.136634Z",
     "iopub.status.idle": "2023-04-09T10:08:14.142599Z",
     "shell.execute_reply": "2023-04-09T10:08:14.141599Z"
    },
    "executionInfo": {
     "elapsed": 141,
     "status": "ok",
     "timestamp": 1681033253518,
     "user": {
      "displayName": "Mallikarjun Thripuraboina",
      "userId": "01775111500134944659"
     },
     "user_tz": -330
    },
    "id": "FOFfmS9r5zGl",
    "papermill": {
     "duration": 0.043878,
     "end_time": "2023-04-09T10:08:14.144696",
     "exception": false,
     "start_time": "2023-04-09T10:08:14.100818",
     "status": "completed"
    },
    "tags": []
   },
   "outputs": [],
   "source": [
    "final = pd.concat([TEST_num, TEST_cat], axis=1)"
   ]
  },
  {
   "cell_type": "code",
   "execution_count": 88,
   "id": "5d597cd8",
   "metadata": {
    "execution": {
     "iopub.execute_input": "2023-04-09T10:08:14.214955Z",
     "iopub.status.busy": "2023-04-09T10:08:14.214595Z",
     "iopub.status.idle": "2023-04-09T10:08:14.251016Z",
     "shell.execute_reply": "2023-04-09T10:08:14.249882Z"
    },
    "executionInfo": {
     "elapsed": 140,
     "status": "ok",
     "timestamp": 1681033253518,
     "user": {
      "displayName": "Mallikarjun Thripuraboina",
      "userId": "01775111500134944659"
     },
     "user_tz": -330
    },
    "id": "hgl_OlcE6Kke",
    "outputId": "ac776540-2232-47ee-e2ce-8f589353d7d5",
    "papermill": {
     "duration": 0.074835,
     "end_time": "2023-04-09T10:08:14.253190",
     "exception": false,
     "start_time": "2023-04-09T10:08:14.178355",
     "status": "completed"
    },
    "tags": []
   },
   "outputs": [
    {
     "data": {
      "text/html": [
       "<div>\n",
       "<style scoped>\n",
       "    .dataframe tbody tr th:only-of-type {\n",
       "        vertical-align: middle;\n",
       "    }\n",
       "\n",
       "    .dataframe tbody tr th {\n",
       "        vertical-align: top;\n",
       "    }\n",
       "\n",
       "    .dataframe thead th {\n",
       "        text-align: right;\n",
       "    }\n",
       "</style>\n",
       "<table border=\"1\" class=\"dataframe\">\n",
       "  <thead>\n",
       "    <tr style=\"text-align: right;\">\n",
       "      <th></th>\n",
       "      <th>Age</th>\n",
       "      <th>Fare</th>\n",
       "      <th>Pclass_1</th>\n",
       "      <th>Pclass_2</th>\n",
       "      <th>Pclass_3</th>\n",
       "      <th>Sex_female</th>\n",
       "      <th>Sex_male</th>\n",
       "      <th>SibSp_0</th>\n",
       "      <th>SibSp_1</th>\n",
       "      <th>SibSp_2</th>\n",
       "      <th>...</th>\n",
       "      <th>Parch_0</th>\n",
       "      <th>Parch_1</th>\n",
       "      <th>Parch_2</th>\n",
       "      <th>Parch_3</th>\n",
       "      <th>Parch_4</th>\n",
       "      <th>Parch_5</th>\n",
       "      <th>Parch_6</th>\n",
       "      <th>Embarked_C</th>\n",
       "      <th>Embarked_Q</th>\n",
       "      <th>Embarked_S</th>\n",
       "    </tr>\n",
       "  </thead>\n",
       "  <tbody>\n",
       "    <tr>\n",
       "      <th>0</th>\n",
       "      <td>6.190985e-01</td>\n",
       "      <td>-0.750721</td>\n",
       "      <td>0.0</td>\n",
       "      <td>0.0</td>\n",
       "      <td>1.0</td>\n",
       "      <td>0.0</td>\n",
       "      <td>1.0</td>\n",
       "      <td>1.0</td>\n",
       "      <td>0.0</td>\n",
       "      <td>0.0</td>\n",
       "      <td>...</td>\n",
       "      <td>1.0</td>\n",
       "      <td>0.0</td>\n",
       "      <td>0.0</td>\n",
       "      <td>0.0</td>\n",
       "      <td>0.0</td>\n",
       "      <td>0.0</td>\n",
       "      <td>0.0</td>\n",
       "      <td>0.0</td>\n",
       "      <td>1.0</td>\n",
       "      <td>0.0</td>\n",
       "    </tr>\n",
       "    <tr>\n",
       "      <th>1</th>\n",
       "      <td>1.712509e+00</td>\n",
       "      <td>-0.811743</td>\n",
       "      <td>0.0</td>\n",
       "      <td>0.0</td>\n",
       "      <td>1.0</td>\n",
       "      <td>1.0</td>\n",
       "      <td>0.0</td>\n",
       "      <td>0.0</td>\n",
       "      <td>1.0</td>\n",
       "      <td>0.0</td>\n",
       "      <td>...</td>\n",
       "      <td>1.0</td>\n",
       "      <td>0.0</td>\n",
       "      <td>0.0</td>\n",
       "      <td>0.0</td>\n",
       "      <td>0.0</td>\n",
       "      <td>0.0</td>\n",
       "      <td>0.0</td>\n",
       "      <td>0.0</td>\n",
       "      <td>0.0</td>\n",
       "      <td>1.0</td>\n",
       "    </tr>\n",
       "    <tr>\n",
       "      <th>2</th>\n",
       "      <td>3.024602e+00</td>\n",
       "      <td>-0.613965</td>\n",
       "      <td>0.0</td>\n",
       "      <td>1.0</td>\n",
       "      <td>0.0</td>\n",
       "      <td>0.0</td>\n",
       "      <td>1.0</td>\n",
       "      <td>1.0</td>\n",
       "      <td>0.0</td>\n",
       "      <td>0.0</td>\n",
       "      <td>...</td>\n",
       "      <td>1.0</td>\n",
       "      <td>0.0</td>\n",
       "      <td>0.0</td>\n",
       "      <td>0.0</td>\n",
       "      <td>0.0</td>\n",
       "      <td>0.0</td>\n",
       "      <td>0.0</td>\n",
       "      <td>0.0</td>\n",
       "      <td>1.0</td>\n",
       "      <td>0.0</td>\n",
       "    </tr>\n",
       "    <tr>\n",
       "      <th>3</th>\n",
       "      <td>-3.694796e-02</td>\n",
       "      <td>-0.689397</td>\n",
       "      <td>0.0</td>\n",
       "      <td>0.0</td>\n",
       "      <td>1.0</td>\n",
       "      <td>0.0</td>\n",
       "      <td>1.0</td>\n",
       "      <td>1.0</td>\n",
       "      <td>0.0</td>\n",
       "      <td>0.0</td>\n",
       "      <td>...</td>\n",
       "      <td>1.0</td>\n",
       "      <td>0.0</td>\n",
       "      <td>0.0</td>\n",
       "      <td>0.0</td>\n",
       "      <td>0.0</td>\n",
       "      <td>0.0</td>\n",
       "      <td>0.0</td>\n",
       "      <td>0.0</td>\n",
       "      <td>0.0</td>\n",
       "      <td>1.0</td>\n",
       "    </tr>\n",
       "    <tr>\n",
       "      <th>4</th>\n",
       "      <td>-4.743123e-01</td>\n",
       "      <td>-0.422627</td>\n",
       "      <td>0.0</td>\n",
       "      <td>0.0</td>\n",
       "      <td>1.0</td>\n",
       "      <td>1.0</td>\n",
       "      <td>0.0</td>\n",
       "      <td>0.0</td>\n",
       "      <td>1.0</td>\n",
       "      <td>0.0</td>\n",
       "      <td>...</td>\n",
       "      <td>0.0</td>\n",
       "      <td>1.0</td>\n",
       "      <td>0.0</td>\n",
       "      <td>0.0</td>\n",
       "      <td>0.0</td>\n",
       "      <td>0.0</td>\n",
       "      <td>0.0</td>\n",
       "      <td>0.0</td>\n",
       "      <td>0.0</td>\n",
       "      <td>1.0</td>\n",
       "    </tr>\n",
       "    <tr>\n",
       "      <th>...</th>\n",
       "      <td>...</td>\n",
       "      <td>...</td>\n",
       "      <td>...</td>\n",
       "      <td>...</td>\n",
       "      <td>...</td>\n",
       "      <td>...</td>\n",
       "      <td>...</td>\n",
       "      <td>...</td>\n",
       "      <td>...</td>\n",
       "      <td>...</td>\n",
       "      <td>...</td>\n",
       "      <td>...</td>\n",
       "      <td>...</td>\n",
       "      <td>...</td>\n",
       "      <td>...</td>\n",
       "      <td>...</td>\n",
       "      <td>...</td>\n",
       "      <td>...</td>\n",
       "      <td>...</td>\n",
       "      <td>...</td>\n",
       "      <td>...</td>\n",
       "    </tr>\n",
       "    <tr>\n",
       "      <th>413</th>\n",
       "      <td>3.107660e-16</td>\n",
       "      <td>-0.734472</td>\n",
       "      <td>0.0</td>\n",
       "      <td>0.0</td>\n",
       "      <td>1.0</td>\n",
       "      <td>0.0</td>\n",
       "      <td>1.0</td>\n",
       "      <td>1.0</td>\n",
       "      <td>0.0</td>\n",
       "      <td>0.0</td>\n",
       "      <td>...</td>\n",
       "      <td>1.0</td>\n",
       "      <td>0.0</td>\n",
       "      <td>0.0</td>\n",
       "      <td>0.0</td>\n",
       "      <td>0.0</td>\n",
       "      <td>0.0</td>\n",
       "      <td>0.0</td>\n",
       "      <td>0.0</td>\n",
       "      <td>0.0</td>\n",
       "      <td>1.0</td>\n",
       "    </tr>\n",
       "    <tr>\n",
       "      <th>414</th>\n",
       "      <td>1.012726e+00</td>\n",
       "      <td>6.687234</td>\n",
       "      <td>1.0</td>\n",
       "      <td>0.0</td>\n",
       "      <td>0.0</td>\n",
       "      <td>1.0</td>\n",
       "      <td>0.0</td>\n",
       "      <td>1.0</td>\n",
       "      <td>0.0</td>\n",
       "      <td>0.0</td>\n",
       "      <td>...</td>\n",
       "      <td>1.0</td>\n",
       "      <td>0.0</td>\n",
       "      <td>0.0</td>\n",
       "      <td>0.0</td>\n",
       "      <td>0.0</td>\n",
       "      <td>0.0</td>\n",
       "      <td>0.0</td>\n",
       "      <td>1.0</td>\n",
       "      <td>0.0</td>\n",
       "      <td>0.0</td>\n",
       "    </tr>\n",
       "    <tr>\n",
       "      <th>415</th>\n",
       "      <td>9.689900e-01</td>\n",
       "      <td>-0.793345</td>\n",
       "      <td>0.0</td>\n",
       "      <td>0.0</td>\n",
       "      <td>1.0</td>\n",
       "      <td>0.0</td>\n",
       "      <td>1.0</td>\n",
       "      <td>1.0</td>\n",
       "      <td>0.0</td>\n",
       "      <td>0.0</td>\n",
       "      <td>...</td>\n",
       "      <td>1.0</td>\n",
       "      <td>0.0</td>\n",
       "      <td>0.0</td>\n",
       "      <td>0.0</td>\n",
       "      <td>0.0</td>\n",
       "      <td>0.0</td>\n",
       "      <td>0.0</td>\n",
       "      <td>0.0</td>\n",
       "      <td>0.0</td>\n",
       "      <td>1.0</td>\n",
       "    </tr>\n",
       "    <tr>\n",
       "      <th>416</th>\n",
       "      <td>3.107660e-16</td>\n",
       "      <td>-0.734472</td>\n",
       "      <td>0.0</td>\n",
       "      <td>0.0</td>\n",
       "      <td>1.0</td>\n",
       "      <td>0.0</td>\n",
       "      <td>1.0</td>\n",
       "      <td>1.0</td>\n",
       "      <td>0.0</td>\n",
       "      <td>0.0</td>\n",
       "      <td>...</td>\n",
       "      <td>1.0</td>\n",
       "      <td>0.0</td>\n",
       "      <td>0.0</td>\n",
       "      <td>0.0</td>\n",
       "      <td>0.0</td>\n",
       "      <td>0.0</td>\n",
       "      <td>0.0</td>\n",
       "      <td>0.0</td>\n",
       "      <td>0.0</td>\n",
       "      <td>1.0</td>\n",
       "    </tr>\n",
       "    <tr>\n",
       "      <th>417</th>\n",
       "      <td>3.107660e-16</td>\n",
       "      <td>0.318498</td>\n",
       "      <td>0.0</td>\n",
       "      <td>0.0</td>\n",
       "      <td>1.0</td>\n",
       "      <td>0.0</td>\n",
       "      <td>1.0</td>\n",
       "      <td>0.0</td>\n",
       "      <td>1.0</td>\n",
       "      <td>0.0</td>\n",
       "      <td>...</td>\n",
       "      <td>0.0</td>\n",
       "      <td>1.0</td>\n",
       "      <td>0.0</td>\n",
       "      <td>0.0</td>\n",
       "      <td>0.0</td>\n",
       "      <td>0.0</td>\n",
       "      <td>0.0</td>\n",
       "      <td>1.0</td>\n",
       "      <td>0.0</td>\n",
       "      <td>0.0</td>\n",
       "    </tr>\n",
       "  </tbody>\n",
       "</table>\n",
       "<p>418 rows × 23 columns</p>\n",
       "</div>"
      ],
      "text/plain": [
       "              Age      Fare  Pclass_1  Pclass_2  Pclass_3  Sex_female  \\\n",
       "0    6.190985e-01 -0.750721       0.0       0.0       1.0         0.0   \n",
       "1    1.712509e+00 -0.811743       0.0       0.0       1.0         1.0   \n",
       "2    3.024602e+00 -0.613965       0.0       1.0       0.0         0.0   \n",
       "3   -3.694796e-02 -0.689397       0.0       0.0       1.0         0.0   \n",
       "4   -4.743123e-01 -0.422627       0.0       0.0       1.0         1.0   \n",
       "..            ...       ...       ...       ...       ...         ...   \n",
       "413  3.107660e-16 -0.734472       0.0       0.0       1.0         0.0   \n",
       "414  1.012726e+00  6.687234       1.0       0.0       0.0         1.0   \n",
       "415  9.689900e-01 -0.793345       0.0       0.0       1.0         0.0   \n",
       "416  3.107660e-16 -0.734472       0.0       0.0       1.0         0.0   \n",
       "417  3.107660e-16  0.318498       0.0       0.0       1.0         0.0   \n",
       "\n",
       "     Sex_male  SibSp_0  SibSp_1  SibSp_2  ...  Parch_0  Parch_1  Parch_2  \\\n",
       "0         1.0      1.0      0.0      0.0  ...      1.0      0.0      0.0   \n",
       "1         0.0      0.0      1.0      0.0  ...      1.0      0.0      0.0   \n",
       "2         1.0      1.0      0.0      0.0  ...      1.0      0.0      0.0   \n",
       "3         1.0      1.0      0.0      0.0  ...      1.0      0.0      0.0   \n",
       "4         0.0      0.0      1.0      0.0  ...      0.0      1.0      0.0   \n",
       "..        ...      ...      ...      ...  ...      ...      ...      ...   \n",
       "413       1.0      1.0      0.0      0.0  ...      1.0      0.0      0.0   \n",
       "414       0.0      1.0      0.0      0.0  ...      1.0      0.0      0.0   \n",
       "415       1.0      1.0      0.0      0.0  ...      1.0      0.0      0.0   \n",
       "416       1.0      1.0      0.0      0.0  ...      1.0      0.0      0.0   \n",
       "417       1.0      0.0      1.0      0.0  ...      0.0      1.0      0.0   \n",
       "\n",
       "     Parch_3  Parch_4  Parch_5  Parch_6  Embarked_C  Embarked_Q  Embarked_S  \n",
       "0        0.0      0.0      0.0      0.0         0.0         1.0         0.0  \n",
       "1        0.0      0.0      0.0      0.0         0.0         0.0         1.0  \n",
       "2        0.0      0.0      0.0      0.0         0.0         1.0         0.0  \n",
       "3        0.0      0.0      0.0      0.0         0.0         0.0         1.0  \n",
       "4        0.0      0.0      0.0      0.0         0.0         0.0         1.0  \n",
       "..       ...      ...      ...      ...         ...         ...         ...  \n",
       "413      0.0      0.0      0.0      0.0         0.0         0.0         1.0  \n",
       "414      0.0      0.0      0.0      0.0         1.0         0.0         0.0  \n",
       "415      0.0      0.0      0.0      0.0         0.0         0.0         1.0  \n",
       "416      0.0      0.0      0.0      0.0         0.0         0.0         1.0  \n",
       "417      0.0      0.0      0.0      0.0         1.0         0.0         0.0  \n",
       "\n",
       "[418 rows x 23 columns]"
      ]
     },
     "execution_count": 88,
     "metadata": {},
     "output_type": "execute_result"
    }
   ],
   "source": [
    "final"
   ]
  },
  {
   "cell_type": "code",
   "execution_count": 89,
   "id": "f8102cf4",
   "metadata": {
    "execution": {
     "iopub.execute_input": "2023-04-09T10:08:14.320067Z",
     "iopub.status.busy": "2023-04-09T10:08:14.319713Z",
     "iopub.status.idle": "2023-04-09T10:08:14.325592Z",
     "shell.execute_reply": "2023-04-09T10:08:14.324613Z"
    },
    "executionInfo": {
     "elapsed": 135,
     "status": "ok",
     "timestamp": 1681033253518,
     "user": {
      "displayName": "Mallikarjun Thripuraboina",
      "userId": "01775111500134944659"
     },
     "user_tz": -330
    },
    "id": "q12rLuKX6RLw",
    "outputId": "ab64d3bd-1761-49b0-9cc4-48fbe3a07c47",
    "papermill": {
     "duration": 0.042201,
     "end_time": "2023-04-09T10:08:14.328292",
     "exception": false,
     "start_time": "2023-04-09T10:08:14.286091",
     "status": "completed"
    },
    "tags": []
   },
   "outputs": [
    {
     "data": {
      "text/plain": [
       "(418, 23)"
      ]
     },
     "execution_count": 89,
     "metadata": {},
     "output_type": "execute_result"
    }
   ],
   "source": [
    "final.shape"
   ]
  },
  {
   "cell_type": "code",
   "execution_count": 90,
   "id": "acaa06dd",
   "metadata": {
    "execution": {
     "iopub.execute_input": "2023-04-09T10:08:14.399081Z",
     "iopub.status.busy": "2023-04-09T10:08:14.398180Z",
     "iopub.status.idle": "2023-04-09T10:08:14.407085Z",
     "shell.execute_reply": "2023-04-09T10:08:14.406107Z"
    },
    "executionInfo": {
     "elapsed": 127,
     "status": "ok",
     "timestamp": 1681033253519,
     "user": {
      "displayName": "Mallikarjun Thripuraboina",
      "userId": "01775111500134944659"
     },
     "user_tz": -330
    },
    "id": "vgS04zVE6TCz",
    "papermill": {
     "duration": 0.046163,
     "end_time": "2023-04-09T10:08:14.409064",
     "exception": false,
     "start_time": "2023-04-09T10:08:14.362901",
     "status": "completed"
    },
    "tags": []
   },
   "outputs": [],
   "source": [
    "final_pred = gbk.predict(final)"
   ]
  },
  {
   "cell_type": "code",
   "execution_count": 91,
   "id": "eed4d5c7",
   "metadata": {
    "execution": {
     "iopub.execute_input": "2023-04-09T10:08:14.481674Z",
     "iopub.status.busy": "2023-04-09T10:08:14.480793Z",
     "iopub.status.idle": "2023-04-09T10:08:14.488805Z",
     "shell.execute_reply": "2023-04-09T10:08:14.487875Z"
    },
    "executionInfo": {
     "elapsed": 126,
     "status": "ok",
     "timestamp": 1681033253519,
     "user": {
      "displayName": "Mallikarjun Thripuraboina",
      "userId": "01775111500134944659"
     },
     "user_tz": -330
    },
    "id": "T6fzZZFzFTFI",
    "outputId": "fe660e69-463c-4554-c7da-2939f2865aa1",
    "papermill": {
     "duration": 0.049035,
     "end_time": "2023-04-09T10:08:14.490823",
     "exception": false,
     "start_time": "2023-04-09T10:08:14.441788",
     "status": "completed"
    },
    "tags": []
   },
   "outputs": [
    {
     "data": {
      "text/plain": [
       "array([0, 0, 1, 0, 0, 0, 0, 0, 1, 0, 0, 0, 1, 1, 1, 1, 0, 0, 0, 0, 1, 0,\n",
       "       1, 1, 1, 0, 1, 0, 0, 0, 0, 0, 1, 0, 1, 0, 0, 0, 0, 1, 0, 1, 0, 1,\n",
       "       1, 0, 0, 0, 1, 1, 1, 0, 1, 1, 0, 0, 0, 0, 0, 1, 0, 0, 0, 1, 1, 1,\n",
       "       1, 0, 0, 1, 1, 0, 0, 0, 1, 1, 0, 1, 0, 1, 1, 1, 0, 0, 0, 0, 1, 0,\n",
       "       1, 1, 1, 0, 1, 0, 0, 0, 1, 0, 1, 0, 1, 0, 0, 0, 0, 0, 0, 0, 0, 0,\n",
       "       0, 1, 1, 1, 1, 0, 0, 1, 1, 1, 1, 0, 1, 0, 0, 1, 0, 1, 0, 0, 0, 0,\n",
       "       0, 0, 0, 0, 0, 0, 0, 0, 0, 1, 1, 0, 1, 0, 0, 0, 1, 0, 1, 0, 0, 1,\n",
       "       0, 0, 1, 1, 1, 1, 1, 1, 1, 0, 0, 0, 0, 0, 1, 0, 0, 0, 0, 0, 0, 1,\n",
       "       1, 1, 1, 1, 0, 1, 1, 0, 1, 0, 1, 0, 0, 0, 0, 0, 0, 0, 1, 0, 1, 1,\n",
       "       0, 0, 1, 1, 1, 1, 0, 0, 0, 0, 1, 0, 0, 0, 0, 0, 0, 0, 1, 1, 1, 0,\n",
       "       1, 0, 1, 0, 1, 0, 0, 1, 0, 0, 1, 1, 0, 0, 1, 0, 1, 0, 1, 1, 1, 1,\n",
       "       1, 0, 0, 0, 1, 0, 1, 0, 1, 0, 1, 0, 0, 0, 0, 0, 1, 0, 0, 0, 1, 1,\n",
       "       0, 0, 0, 0, 0, 0, 1, 0, 1, 1, 0, 1, 0, 0, 0, 0, 0, 1, 1, 0, 1, 0,\n",
       "       0, 1, 0, 0, 0, 0, 0, 1, 0, 0, 1, 0, 0, 0, 0, 0, 0, 0, 1, 1, 1, 1,\n",
       "       1, 0, 0, 0, 0, 0, 1, 1, 1, 0, 0, 0, 0, 0, 0, 1, 1, 0, 1, 1, 0, 0,\n",
       "       1, 0, 0, 1, 0, 0, 0, 0, 0, 0, 0, 0, 0, 1, 0, 1, 0, 0, 0, 1, 1, 0,\n",
       "       0, 0, 1, 0, 1, 0, 0, 0, 0, 1, 1, 0, 1, 0, 0, 0, 1, 0, 0, 1, 0, 0,\n",
       "       1, 1, 0, 0, 0, 1, 0, 0, 0, 1, 0, 1, 0, 0, 0, 0, 1, 1, 0, 0, 0, 1,\n",
       "       0, 1, 0, 0, 1, 0, 1, 0, 0, 0, 0, 1, 1, 1, 1, 1, 1, 0, 1, 0, 0, 0])"
      ]
     },
     "execution_count": 91,
     "metadata": {},
     "output_type": "execute_result"
    }
   ],
   "source": [
    "final_pred"
   ]
  },
  {
   "cell_type": "code",
   "execution_count": 92,
   "id": "b1a6cd4a",
   "metadata": {
    "execution": {
     "iopub.execute_input": "2023-04-09T10:08:14.568150Z",
     "iopub.status.busy": "2023-04-09T10:08:14.567707Z",
     "iopub.status.idle": "2023-04-09T10:08:14.573046Z",
     "shell.execute_reply": "2023-04-09T10:08:14.572190Z"
    },
    "executionInfo": {
     "elapsed": 117,
     "status": "ok",
     "timestamp": 1681033253521,
     "user": {
      "displayName": "Mallikarjun Thripuraboina",
      "userId": "01775111500134944659"
     },
     "user_tz": -330
    },
    "id": "zM5D1evhAxxY",
    "papermill": {
     "duration": 0.042893,
     "end_time": "2023-04-09T10:08:14.574852",
     "exception": false,
     "start_time": "2023-04-09T10:08:14.531959",
     "status": "completed"
    },
    "tags": []
   },
   "outputs": [],
   "source": [
    "Submission=TEST[['PassengerId']]"
   ]
  },
  {
   "cell_type": "code",
   "execution_count": 93,
   "id": "c470da51",
   "metadata": {
    "execution": {
     "iopub.execute_input": "2023-04-09T10:08:14.649047Z",
     "iopub.status.busy": "2023-04-09T10:08:14.648378Z",
     "iopub.status.idle": "2023-04-09T10:08:14.663508Z",
     "shell.execute_reply": "2023-04-09T10:08:14.662002Z"
    },
    "executionInfo": {
     "elapsed": 117,
     "status": "ok",
     "timestamp": 1681033253521,
     "user": {
      "displayName": "Mallikarjun Thripuraboina",
      "userId": "01775111500134944659"
     },
     "user_tz": -330
    },
    "id": "Jihk_34FFQ68",
    "outputId": "deb42187-b95d-47f7-c076-4b1105f95b2d",
    "papermill": {
     "duration": 0.052952,
     "end_time": "2023-04-09T10:08:14.665543",
     "exception": false,
     "start_time": "2023-04-09T10:08:14.612591",
     "status": "completed"
    },
    "tags": []
   },
   "outputs": [
    {
     "name": "stderr",
     "output_type": "stream",
     "text": [
      "/opt/conda/lib/python3.7/site-packages/ipykernel_launcher.py:1: SettingWithCopyWarning: \n",
      "A value is trying to be set on a copy of a slice from a DataFrame.\n",
      "Try using .loc[row_indexer,col_indexer] = value instead\n",
      "\n",
      "See the caveats in the documentation: https://pandas.pydata.org/pandas-docs/stable/user_guide/indexing.html#returning-a-view-versus-a-copy\n",
      "  \"\"\"Entry point for launching an IPython kernel.\n"
     ]
    },
    {
     "data": {
      "text/html": [
       "<div>\n",
       "<style scoped>\n",
       "    .dataframe tbody tr th:only-of-type {\n",
       "        vertical-align: middle;\n",
       "    }\n",
       "\n",
       "    .dataframe tbody tr th {\n",
       "        vertical-align: top;\n",
       "    }\n",
       "\n",
       "    .dataframe thead th {\n",
       "        text-align: right;\n",
       "    }\n",
       "</style>\n",
       "<table border=\"1\" class=\"dataframe\">\n",
       "  <thead>\n",
       "    <tr style=\"text-align: right;\">\n",
       "      <th></th>\n",
       "      <th>PassengerId</th>\n",
       "      <th>Survived</th>\n",
       "    </tr>\n",
       "  </thead>\n",
       "  <tbody>\n",
       "    <tr>\n",
       "      <th>0</th>\n",
       "      <td>892</td>\n",
       "      <td>0</td>\n",
       "    </tr>\n",
       "    <tr>\n",
       "      <th>1</th>\n",
       "      <td>893</td>\n",
       "      <td>0</td>\n",
       "    </tr>\n",
       "    <tr>\n",
       "      <th>2</th>\n",
       "      <td>894</td>\n",
       "      <td>1</td>\n",
       "    </tr>\n",
       "    <tr>\n",
       "      <th>3</th>\n",
       "      <td>895</td>\n",
       "      <td>0</td>\n",
       "    </tr>\n",
       "    <tr>\n",
       "      <th>4</th>\n",
       "      <td>896</td>\n",
       "      <td>0</td>\n",
       "    </tr>\n",
       "    <tr>\n",
       "      <th>...</th>\n",
       "      <td>...</td>\n",
       "      <td>...</td>\n",
       "    </tr>\n",
       "    <tr>\n",
       "      <th>413</th>\n",
       "      <td>1305</td>\n",
       "      <td>0</td>\n",
       "    </tr>\n",
       "    <tr>\n",
       "      <th>414</th>\n",
       "      <td>1306</td>\n",
       "      <td>1</td>\n",
       "    </tr>\n",
       "    <tr>\n",
       "      <th>415</th>\n",
       "      <td>1307</td>\n",
       "      <td>0</td>\n",
       "    </tr>\n",
       "    <tr>\n",
       "      <th>416</th>\n",
       "      <td>1308</td>\n",
       "      <td>0</td>\n",
       "    </tr>\n",
       "    <tr>\n",
       "      <th>417</th>\n",
       "      <td>1309</td>\n",
       "      <td>0</td>\n",
       "    </tr>\n",
       "  </tbody>\n",
       "</table>\n",
       "<p>418 rows × 2 columns</p>\n",
       "</div>"
      ],
      "text/plain": [
       "     PassengerId  Survived\n",
       "0            892         0\n",
       "1            893         0\n",
       "2            894         1\n",
       "3            895         0\n",
       "4            896         0\n",
       "..           ...       ...\n",
       "413         1305         0\n",
       "414         1306         1\n",
       "415         1307         0\n",
       "416         1308         0\n",
       "417         1309         0\n",
       "\n",
       "[418 rows x 2 columns]"
      ]
     },
     "execution_count": 93,
     "metadata": {},
     "output_type": "execute_result"
    }
   ],
   "source": [
    "Submission['Survived']=final_pred\n",
    "Submission"
   ]
  },
  {
   "cell_type": "code",
   "execution_count": 94,
   "id": "5e35278f",
   "metadata": {
    "execution": {
     "iopub.execute_input": "2023-04-09T10:08:14.744331Z",
     "iopub.status.busy": "2023-04-09T10:08:14.743920Z",
     "iopub.status.idle": "2023-04-09T10:08:14.753273Z",
     "shell.execute_reply": "2023-04-09T10:08:14.751899Z"
    },
    "executionInfo": {
     "elapsed": 108,
     "status": "ok",
     "timestamp": 1681033253521,
     "user": {
      "displayName": "Mallikarjun Thripuraboina",
      "userId": "01775111500134944659"
     },
     "user_tz": -330
    },
    "id": "o9ybLMZHGlqQ",
    "papermill": {
     "duration": 0.054597,
     "end_time": "2023-04-09T10:08:14.755845",
     "exception": false,
     "start_time": "2023-04-09T10:08:14.701248",
     "status": "completed"
    },
    "tags": []
   },
   "outputs": [],
   "source": [
    "Submission.to_csv(\"titanicc.csv\",index = None)"
   ]
  },
  {
   "cell_type": "code",
   "execution_count": 95,
   "id": "dd638914",
   "metadata": {
    "execution": {
     "iopub.execute_input": "2023-04-09T10:08:14.833554Z",
     "iopub.status.busy": "2023-04-09T10:08:14.832756Z",
     "iopub.status.idle": "2023-04-09T10:08:14.845941Z",
     "shell.execute_reply": "2023-04-09T10:08:14.844913Z"
    },
    "executionInfo": {
     "elapsed": 109,
     "status": "ok",
     "timestamp": 1681033253522,
     "user": {
      "displayName": "Mallikarjun Thripuraboina",
      "userId": "01775111500134944659"
     },
     "user_tz": -330
    },
    "id": "qoBriD8vZoJi",
    "outputId": "42f6d1a2-a2b8-4f2b-dd21-2ff086cdd76b",
    "papermill": {
     "duration": 0.050438,
     "end_time": "2023-04-09T10:08:14.847831",
     "exception": false,
     "start_time": "2023-04-09T10:08:14.797393",
     "status": "completed"
    },
    "tags": []
   },
   "outputs": [
    {
     "data": {
      "text/html": [
       "<div>\n",
       "<style scoped>\n",
       "    .dataframe tbody tr th:only-of-type {\n",
       "        vertical-align: middle;\n",
       "    }\n",
       "\n",
       "    .dataframe tbody tr th {\n",
       "        vertical-align: top;\n",
       "    }\n",
       "\n",
       "    .dataframe thead th {\n",
       "        text-align: right;\n",
       "    }\n",
       "</style>\n",
       "<table border=\"1\" class=\"dataframe\">\n",
       "  <thead>\n",
       "    <tr style=\"text-align: right;\">\n",
       "      <th></th>\n",
       "      <th>PassengerId</th>\n",
       "      <th>Survived</th>\n",
       "    </tr>\n",
       "  </thead>\n",
       "  <tbody>\n",
       "    <tr>\n",
       "      <th>0</th>\n",
       "      <td>892</td>\n",
       "      <td>0</td>\n",
       "    </tr>\n",
       "    <tr>\n",
       "      <th>1</th>\n",
       "      <td>893</td>\n",
       "      <td>0</td>\n",
       "    </tr>\n",
       "    <tr>\n",
       "      <th>2</th>\n",
       "      <td>894</td>\n",
       "      <td>1</td>\n",
       "    </tr>\n",
       "    <tr>\n",
       "      <th>3</th>\n",
       "      <td>895</td>\n",
       "      <td>0</td>\n",
       "    </tr>\n",
       "    <tr>\n",
       "      <th>4</th>\n",
       "      <td>896</td>\n",
       "      <td>0</td>\n",
       "    </tr>\n",
       "    <tr>\n",
       "      <th>...</th>\n",
       "      <td>...</td>\n",
       "      <td>...</td>\n",
       "    </tr>\n",
       "    <tr>\n",
       "      <th>413</th>\n",
       "      <td>1305</td>\n",
       "      <td>0</td>\n",
       "    </tr>\n",
       "    <tr>\n",
       "      <th>414</th>\n",
       "      <td>1306</td>\n",
       "      <td>1</td>\n",
       "    </tr>\n",
       "    <tr>\n",
       "      <th>415</th>\n",
       "      <td>1307</td>\n",
       "      <td>0</td>\n",
       "    </tr>\n",
       "    <tr>\n",
       "      <th>416</th>\n",
       "      <td>1308</td>\n",
       "      <td>0</td>\n",
       "    </tr>\n",
       "    <tr>\n",
       "      <th>417</th>\n",
       "      <td>1309</td>\n",
       "      <td>0</td>\n",
       "    </tr>\n",
       "  </tbody>\n",
       "</table>\n",
       "<p>418 rows × 2 columns</p>\n",
       "</div>"
      ],
      "text/plain": [
       "     PassengerId  Survived\n",
       "0            892         0\n",
       "1            893         0\n",
       "2            894         1\n",
       "3            895         0\n",
       "4            896         0\n",
       "..           ...       ...\n",
       "413         1305         0\n",
       "414         1306         1\n",
       "415         1307         0\n",
       "416         1308         0\n",
       "417         1309         0\n",
       "\n",
       "[418 rows x 2 columns]"
      ]
     },
     "execution_count": 95,
     "metadata": {},
     "output_type": "execute_result"
    }
   ],
   "source": [
    "pd.read_csv('titanicc.csv')"
   ]
  },
  {
   "cell_type": "code",
   "execution_count": null,
   "id": "7007cfb7",
   "metadata": {
    "executionInfo": {
     "elapsed": 106,
     "status": "ok",
     "timestamp": 1681033253522,
     "user": {
      "displayName": "Mallikarjun Thripuraboina",
      "userId": "01775111500134944659"
     },
     "user_tz": -330
    },
    "id": "SRnSlRiYiyfl",
    "papermill": {
     "duration": 0.034688,
     "end_time": "2023-04-09T10:08:14.917648",
     "exception": false,
     "start_time": "2023-04-09T10:08:14.882960",
     "status": "completed"
    },
    "tags": []
   },
   "outputs": [],
   "source": []
  }
 ],
 "metadata": {
  "kernelspec": {
   "display_name": "Python 3",
   "language": "python",
   "name": "python3"
  },
  "language_info": {
   "codemirror_mode": {
    "name": "ipython",
    "version": 3
   },
   "file_extension": ".py",
   "mimetype": "text/x-python",
   "name": "python",
   "nbconvert_exporter": "python",
   "pygments_lexer": "ipython3",
   "version": "3.7.12"
  },
  "papermill": {
   "default_parameters": {},
   "duration": 22.092733,
   "end_time": "2023-04-09T10:08:15.774563",
   "environment_variables": {},
   "exception": null,
   "input_path": "__notebook__.ipynb",
   "output_path": "__notebook__.ipynb",
   "parameters": {},
   "start_time": "2023-04-09T10:07:53.681830",
   "version": "2.4.0"
  }
 },
 "nbformat": 4,
 "nbformat_minor": 5
}
